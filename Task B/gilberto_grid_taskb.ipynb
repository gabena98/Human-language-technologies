{
 "cells": [
  {
   "cell_type": "code",
   "execution_count": 1,
   "metadata": {
    "colab": {
     "base_uri": "https://localhost:8080/"
    },
    "executionInfo": {
     "elapsed": 10105,
     "status": "ok",
     "timestamp": 1707911050893,
     "user": {
      "displayName": "Gabriele Benanti",
      "userId": "08053723087704014228"
     },
     "user_tz": -60
    },
    "id": "Bdvmqgt7icpf",
    "outputId": "c98a89a3-5e65-4b5e-d7e9-8f814461a956",
    "tags": []
   },
   "outputs": [
    {
     "name": "stdout",
     "output_type": "stream",
     "text": [
      "Defaulting to user installation because normal site-packages is not writeable\n",
      "Requirement already satisfied: transformers in /usr/lib/python3.8/site-packages (4.1.1)\n",
      "Requirement already satisfied: regex!=2019.12.17 in /usr/lib/python3.8/site-packages (from transformers) (2020.11.13)\n",
      "Requirement already satisfied: tokenizers==0.9.4 in /usr/lib/python3.8/site-packages (from transformers) (0.9.4)\n",
      "Requirement already satisfied: packaging in /usr/lib/python3.8/site-packages (from transformers) (20.9)\n",
      "Requirement already satisfied: filelock in /usr/lib/python3.8/site-packages (from transformers) (3.0.12)\n",
      "Requirement already satisfied: numpy in /usr/local/lib/python3.8/dist-packages (from transformers) (1.19.5)\n",
      "Requirement already satisfied: sacremoses in /usr/lib/python3.8/site-packages (from transformers) (0.0.43)\n",
      "Requirement already satisfied: requests in /usr/lib/python3/dist-packages (from transformers) (2.22.0)\n",
      "Requirement already satisfied: tqdm>=4.27 in /usr/lib/python3.8/site-packages (from transformers) (4.54.1)\n",
      "Requirement already satisfied: pyparsing>=2.0.2 in /usr/lib/python3/dist-packages (from packaging->transformers) (2.4.6)\n",
      "Requirement already satisfied: six in /usr/local/lib/python3.8/dist-packages (from sacremoses->transformers) (1.15.0)\n",
      "Requirement already satisfied: click in /usr/lib/python3/dist-packages (from sacremoses->transformers) (7.0)\n",
      "Requirement already satisfied: joblib in /usr/lib/python3.8/site-packages (from sacremoses->transformers) (1.0.0)\n",
      "\u001b[33mWARNING: You are using pip version 21.2.4; however, version 24.0 is available.\n",
      "You should consider upgrading via the '/usr/bin/python3 -m pip install --upgrade pip' command.\u001b[0m\n",
      "Defaulting to user installation because normal site-packages is not writeable\n",
      "Requirement already satisfied: keras_tuner in ./.local/lib/python3.8/site-packages (1.4.6)\n",
      "Requirement already satisfied: requests in /usr/lib/python3/dist-packages (from keras_tuner) (2.22.0)\n",
      "Requirement already satisfied: keras in /usr/local/lib/python3.8/dist-packages (from keras_tuner) (2.6.0)\n",
      "Requirement already satisfied: kt-legacy in ./.local/lib/python3.8/site-packages (from keras_tuner) (1.0.5)\n",
      "Requirement already satisfied: packaging in /usr/lib/python3.8/site-packages (from keras_tuner) (20.9)\n",
      "Requirement already satisfied: pyparsing>=2.0.2 in /usr/lib/python3/dist-packages (from packaging->keras_tuner) (2.4.6)\n",
      "\u001b[33mWARNING: You are using pip version 21.2.4; however, version 24.0 is available.\n",
      "You should consider upgrading via the '/usr/bin/python3 -m pip install --upgrade pip' command.\u001b[0m\n"
     ]
    }
   ],
   "source": [
    "! pip install transformers\n",
    "! pip install keras_tuner"
   ]
  },
  {
   "cell_type": "code",
   "execution_count": 6,
   "metadata": {},
   "outputs": [],
   "source": [
    "import os\n",
    "os.environ[\"CUDA_VISIBLE_DEVICES\"]=\"0\""
   ]
  },
  {
   "cell_type": "code",
   "execution_count": 7,
   "metadata": {},
   "outputs": [
    {
     "name": "stdout",
     "output_type": "stream",
     "text": [
      "0\n"
     ]
    }
   ],
   "source": [
    "!echo $CUDA_VISIBLE_DEVICES"
   ]
  },
  {
   "cell_type": "code",
   "execution_count": 8,
   "metadata": {
    "executionInfo": {
     "elapsed": 4370,
     "status": "ok",
     "timestamp": 1707911055260,
     "user": {
      "displayName": "Gabriele Benanti",
      "userId": "08053723087704014228"
     },
     "user_tz": -60
    },
    "id": "uLp5lpFlia-r"
   },
   "outputs": [],
   "source": [
    "import numpy as np\n",
    "import seaborn as sns\n",
    "import pandas as pd\n",
    "import tensorflow as tf\n",
    "from tensorflow.keras.models import Sequential, Model\n",
    "from tensorflow.keras.layers import Input, Dense, Embedding, LSTM, Bidirectional, Dropout, GlobalMaxPool1D, concatenate, BatchNormalization\n",
    "from tensorflow.keras.callbacks import Callback\n",
    "from tensorflow.keras.callbacks import EarlyStopping\n",
    "from tensorflow.keras.optimizers import Adam\n",
    "from keras_tuner.tuners import GridSearch\n",
    "from keras_tuner import HyperModel, Objective\n",
    "from keras import regularizers\n",
    "from decimal import Decimal\n",
    "from sklearn.metrics import classification_report, accuracy_score\n",
    "from sklearn.metrics import confusion_matrix\n",
    "from sklearn.preprocessing import StandardScaler\n",
    "import matplotlib.pyplot as plt\n",
    "import warnings\n",
    "warnings.filterwarnings(\"ignore\")"
   ]
  },
  {
   "cell_type": "code",
   "execution_count": 9,
   "metadata": {},
   "outputs": [
    {
     "name": "stdout",
     "output_type": "stream",
     "text": [
      "GPUs available:  [PhysicalDevice(name='/physical_device:GPU:0', device_type='GPU')]\n"
     ]
    }
   ],
   "source": [
    "gpus = tf.config.experimental.list_physical_devices('GPU')\n",
    "print(\"GPUs available: \", gpus)"
   ]
  },
  {
   "cell_type": "code",
   "execution_count": 10,
   "metadata": {},
   "outputs": [
    {
     "name": "stdout",
     "output_type": "stream",
     "text": [
      "Using GPU:  PhysicalDevice(name='/physical_device:GPU:0', device_type='GPU')\n"
     ]
    }
   ],
   "source": [
    "if gpus:\n",
    "    # Assuming you want to use the first GPU if available\n",
    "    try:\n",
    "        tf.config.experimental.set_visible_devices(gpus[0], 'GPU')\n",
    "        print(\"Using GPU: \", gpus[0])\n",
    "    except RuntimeError as e:\n",
    "        # Visible devices must be set before GPUs have been initialized\n",
    "        print(e)"
   ]
  },
  {
   "cell_type": "code",
   "execution_count": 11,
   "metadata": {},
   "outputs": [
    {
     "name": "stdout",
     "output_type": "stream",
     "text": [
      "Memory growth enabled\n"
     ]
    }
   ],
   "source": [
    "if gpus:\n",
    "    try:\n",
    "        # Currently, memory growth needs to be the same across GPUs\n",
    "        for gpu in gpus:\n",
    "            tf.config.experimental.set_memory_growth(gpu, True)\n",
    "        print(\"Memory growth enabled\")\n",
    "    except RuntimeError as e:\n",
    "        # Memory growth must be set before GPUs have been initialized\n",
    "        print(e)"
   ]
  },
  {
   "cell_type": "code",
   "execution_count": 12,
   "metadata": {
    "executionInfo": {
     "elapsed": 2,
     "status": "ok",
     "timestamp": 1707911055260,
     "user": {
      "displayName": "Gabriele Benanti",
      "userId": "08053723087704014228"
     },
     "user_tz": -60
    },
    "id": "iCJo8jn2Ya31"
   },
   "outputs": [],
   "source": [
    "import keras\n",
    "SEED = 42\n",
    "tf.random.set_seed(SEED)"
   ]
  },
  {
   "cell_type": "markdown",
   "metadata": {
    "id": "_DZiE4eaYa31"
   },
   "source": [
    "DATASET PROCESSATO"
   ]
  },
  {
   "cell_type": "code",
   "execution_count": 13,
   "metadata": {
    "executionInfo": {
     "elapsed": 2,
     "status": "ok",
     "timestamp": 1707911055260,
     "user": {
      "displayName": "Gabriele Benanti",
      "userId": "08053723087704014228"
     },
     "user_tz": -60
    },
    "id": "wzddSWGgYa32"
   },
   "outputs": [],
   "source": [
    "choice = 'umberto' #umberto"
   ]
  },
  {
   "cell_type": "code",
   "execution_count": 14,
   "metadata": {
    "colab": {
     "base_uri": "https://localhost:8080/"
    },
    "executionInfo": {
     "elapsed": 3392,
     "status": "ok",
     "timestamp": 1707911058651,
     "user": {
      "displayName": "Gabriele Benanti",
      "userId": "08053723087704014228"
     },
     "user_tz": -60
    },
    "id": "MKD05q4pilAa",
    "outputId": "c7a49680-29e0-4895-fe2c-a18ac83b61b0"
   },
   "outputs": [
    {
     "name": "stdout",
     "output_type": "stream",
     "text": [
      "umberto chosen\n",
      "357\n"
     ]
    }
   ],
   "source": [
    "max_length = 0\n",
    "if choice == 'alberto':\n",
    "    training_data = pd.read_csv('archive/alberto_preprocessing_training_textual_haspeede2.csv')\n",
    "    test_data = pd.read_csv('archive/alberto_preprocessing/alberto_preprocessing_test_textual.csv')\n",
    "    max_length = 290\n",
    "    print('alberto chosen')\n",
    "else:\n",
    "    training_data = pd.read_csv('archive/umberto_preprocessing_training_textual_haspeede2.csv')\n",
    "    test_data = pd.read_csv('archive/umberto_preprocessing/umberto_preprocessing_test_textual.csv')\n",
    "    max_length = 357\n",
    "    print('umberto chosen')\n",
    "\n",
    "print(max_length)"
   ]
  },
  {
   "cell_type": "code",
   "execution_count": 15,
   "metadata": {
    "colab": {
     "base_uri": "https://localhost:8080/",
     "height": 791
    },
    "executionInfo": {
     "elapsed": 3,
     "status": "ok",
     "timestamp": 1707911058651,
     "user": {
      "displayName": "Gabriele Benanti",
      "userId": "08053723087704014228"
     },
     "user_tz": -60
    },
    "id": "mv-fPUSKqRnB",
    "outputId": "9fb94594-6bf6-4a81-ce43-eb0299b950cd"
   },
   "outputs": [
    {
     "data": {
      "text/html": [
       "<div>\n",
       "<style scoped>\n",
       "    .dataframe tbody tr th:only-of-type {\n",
       "        vertical-align: middle;\n",
       "    }\n",
       "\n",
       "    .dataframe tbody tr th {\n",
       "        vertical-align: top;\n",
       "    }\n",
       "\n",
       "    .dataframe thead th {\n",
       "        text-align: right;\n",
       "    }\n",
       "</style>\n",
       "<table border=\"1\" class=\"dataframe\">\n",
       "  <thead>\n",
       "    <tr style=\"text-align: right;\">\n",
       "      <th></th>\n",
       "      <th>anonymized_text</th>\n",
       "      <th>label</th>\n",
       "    </tr>\n",
       "  </thead>\n",
       "  <tbody>\n",
       "    <tr>\n",
       "      <th>0</th>\n",
       "      <td>[user] con tutte le denunce che si sta beccand...</td>\n",
       "      <td>1</td>\n",
       "    </tr>\n",
       "    <tr>\n",
       "      <th>1</th>\n",
       "      <td>[hashtag] prescrizione [/hashtag] i t re magi ...</td>\n",
       "      <td>0</td>\n",
       "    </tr>\n",
       "    <tr>\n",
       "      <th>2</th>\n",
       "      <td>il [hashtag] movimento cinque stelle [/hashtag...</td>\n",
       "      <td>1</td>\n",
       "    </tr>\n",
       "    <tr>\n",
       "      <th>3</th>\n",
       "      <td>la [hashtag] lega [/hashtag] e il [hashtag] mo...</td>\n",
       "      <td>0</td>\n",
       "    </tr>\n",
       "    <tr>\n",
       "      <th>4</th>\n",
       "      <td>che cosa cambia questa [hashtag] legge [/hasht...</td>\n",
       "      <td>0</td>\n",
       "    </tr>\n",
       "    <tr>\n",
       "      <th>...</th>\n",
       "      <td>...</td>\n",
       "      <td>...</td>\n",
       "    </tr>\n",
       "    <tr>\n",
       "      <th>12432</th>\n",
       "      <td>gli stati nazionali devono essere pronti a rin...</td>\n",
       "      <td>0</td>\n",
       "    </tr>\n",
       "    <tr>\n",
       "      <th>12433</th>\n",
       "      <td>il ministro dell interno della germania [hasht...</td>\n",
       "      <td>0</td>\n",
       "    </tr>\n",
       "    <tr>\n",
       "      <th>12434</th>\n",
       "      <td>[hashtag] salvini [/hashtag] in italia troppi ...</td>\n",
       "      <td>0</td>\n",
       "    </tr>\n",
       "    <tr>\n",
       "      <th>12435</th>\n",
       "      <td>[user] [user] chi giubila in buona fede non ha...</td>\n",
       "      <td>0</td>\n",
       "    </tr>\n",
       "    <tr>\n",
       "      <th>12436</th>\n",
       "      <td>i giovani cristiani in [hashtag] etiopia [/has...</td>\n",
       "      <td>0</td>\n",
       "    </tr>\n",
       "  </tbody>\n",
       "</table>\n",
       "<p>12437 rows × 2 columns</p>\n",
       "</div>"
      ],
      "text/plain": [
       "                                         anonymized_text  label\n",
       "0      [user] con tutte le denunce che si sta beccand...      1\n",
       "1      [hashtag] prescrizione [/hashtag] i t re magi ...      0\n",
       "2      il [hashtag] movimento cinque stelle [/hashtag...      1\n",
       "3      la [hashtag] lega [/hashtag] e il [hashtag] mo...      0\n",
       "4      che cosa cambia questa [hashtag] legge [/hasht...      0\n",
       "...                                                  ...    ...\n",
       "12432  gli stati nazionali devono essere pronti a rin...      0\n",
       "12433  il ministro dell interno della germania [hasht...      0\n",
       "12434  [hashtag] salvini [/hashtag] in italia troppi ...      0\n",
       "12435  [user] [user] chi giubila in buona fede non ha...      0\n",
       "12436  i giovani cristiani in [hashtag] etiopia [/has...      0\n",
       "\n",
       "[12437 rows x 2 columns]"
      ]
     },
     "execution_count": 15,
     "metadata": {},
     "output_type": "execute_result"
    }
   ],
   "source": [
    "training_data"
   ]
  },
  {
   "cell_type": "code",
   "execution_count": 16,
   "metadata": {
    "colab": {
     "base_uri": "https://localhost:8080/"
    },
    "executionInfo": {
     "elapsed": 9,
     "status": "ok",
     "timestamp": 1707911059355,
     "user": {
      "displayName": "Gabriele Benanti",
      "userId": "08053723087704014228"
     },
     "user_tz": -60
    },
    "id": "uLbrHZ5iVUcX",
    "outputId": "76c090dc-a7da-4eb7-ef59-d6c1ff5fa30d"
   },
   "outputs": [
    {
     "name": "stdout",
     "output_type": "stream",
     "text": [
      "<class 'pandas.core.frame.DataFrame'>\n",
      "RangeIndex: 12437 entries, 0 to 12436\n",
      "Data columns (total 2 columns):\n",
      " #   Column           Non-Null Count  Dtype \n",
      "---  ------           --------------  ----- \n",
      " 0   anonymized_text  12437 non-null  object\n",
      " 1   label            12437 non-null  int64 \n",
      "dtypes: int64(1), object(1)\n",
      "memory usage: 194.5+ KB\n"
     ]
    }
   ],
   "source": [
    "training_data.info()"
   ]
  },
  {
   "cell_type": "code",
   "execution_count": 17,
   "metadata": {
    "colab": {
     "base_uri": "https://localhost:8080/",
     "height": 791
    },
    "executionInfo": {
     "elapsed": 8,
     "status": "ok",
     "timestamp": 1707911059355,
     "user": {
      "displayName": "Gabriele Benanti",
      "userId": "08053723087704014228"
     },
     "user_tz": -60
    },
    "id": "xnoQ9X3DqX5W",
    "outputId": "816b4a94-fa9e-49be-a185-3310b740ec2e"
   },
   "outputs": [
    {
     "data": {
      "text/html": [
       "<div>\n",
       "<style scoped>\n",
       "    .dataframe tbody tr th:only-of-type {\n",
       "        vertical-align: middle;\n",
       "    }\n",
       "\n",
       "    .dataframe tbody tr th {\n",
       "        vertical-align: top;\n",
       "    }\n",
       "\n",
       "    .dataframe thead th {\n",
       "        text-align: right;\n",
       "    }\n",
       "</style>\n",
       "<table border=\"1\" class=\"dataframe\">\n",
       "  <thead>\n",
       "    <tr style=\"text-align: right;\">\n",
       "      <th></th>\n",
       "      <th>anonymized_tweet_id</th>\n",
       "      <th>anonymized_text</th>\n",
       "      <th>label</th>\n",
       "      <th>dataset</th>\n",
       "    </tr>\n",
       "  </thead>\n",
       "  <tbody>\n",
       "    <tr>\n",
       "      <th>0</th>\n",
       "      <td>424801448454884</td>\n",
       "      <td>questo anno [hashtag] babbo natale [/hashtag] ...</td>\n",
       "      <td>1</td>\n",
       "      <td>test_politics</td>\n",
       "    </tr>\n",
       "    <tr>\n",
       "      <th>1</th>\n",
       "      <td>775194088981616</td>\n",
       "      <td>adesso che in mezzo alla strada grazie al verg...</td>\n",
       "      <td>1</td>\n",
       "      <td>test_politics</td>\n",
       "    </tr>\n",
       "    <tr>\n",
       "      <th>2</th>\n",
       "      <td>386928936347190</td>\n",
       "      <td>circondatevi di persone che non sono diventate...</td>\n",
       "      <td>0</td>\n",
       "      <td>test_politics</td>\n",
       "    </tr>\n",
       "    <tr>\n",
       "      <th>3</th>\n",
       "      <td>957546674360002</td>\n",
       "      <td>seriamente per capire se un ladro mi entra in ...</td>\n",
       "      <td>0</td>\n",
       "      <td>test_politics</td>\n",
       "    </tr>\n",
       "    <tr>\n",
       "      <th>4</th>\n",
       "      <td>530526299555950</td>\n",
       "      <td>che poi è probabile che [hashtag] spataro [/ha...</td>\n",
       "      <td>0</td>\n",
       "      <td>test_politics</td>\n",
       "    </tr>\n",
       "    <tr>\n",
       "      <th>...</th>\n",
       "      <td>...</td>\n",
       "      <td>...</td>\n",
       "      <td>...</td>\n",
       "      <td>...</td>\n",
       "    </tr>\n",
       "    <tr>\n",
       "      <th>4395</th>\n",
       "      <td>391599381944152</td>\n",
       "      <td>[user] esatto brava ti dico di piu i nazisti n...</td>\n",
       "      <td>0</td>\n",
       "      <td>test_religious</td>\n",
       "    </tr>\n",
       "    <tr>\n",
       "      <th>4396</th>\n",
       "      <td>974317501584882</td>\n",
       "      <td>[user] togliere la parola non vaccinati e mett...</td>\n",
       "      <td>0</td>\n",
       "      <td>test_religious</td>\n",
       "    </tr>\n",
       "    <tr>\n",
       "      <th>4397</th>\n",
       "      <td>739414582677163</td>\n",
       "      <td>[user] [user] lo sai o no che i musulmani rico...</td>\n",
       "      <td>0</td>\n",
       "      <td>test_religious</td>\n",
       "    </tr>\n",
       "    <tr>\n",
       "      <th>4398</th>\n",
       "      <td>470933865054049</td>\n",
       "      <td>berlino memoriale per gli ebrei assassinati d ...</td>\n",
       "      <td>0</td>\n",
       "      <td>test_religious</td>\n",
       "    </tr>\n",
       "    <tr>\n",
       "      <th>4399</th>\n",
       "      <td>692345319594122</td>\n",
       "      <td>[user] [user] solo un terone dal culetto oliva...</td>\n",
       "      <td>0</td>\n",
       "      <td>test_religious</td>\n",
       "    </tr>\n",
       "  </tbody>\n",
       "</table>\n",
       "<p>4400 rows × 4 columns</p>\n",
       "</div>"
      ],
      "text/plain": [
       "      anonymized_tweet_id                                    anonymized_text  \\\n",
       "0         424801448454884  questo anno [hashtag] babbo natale [/hashtag] ...   \n",
       "1         775194088981616  adesso che in mezzo alla strada grazie al verg...   \n",
       "2         386928936347190  circondatevi di persone che non sono diventate...   \n",
       "3         957546674360002  seriamente per capire se un ladro mi entra in ...   \n",
       "4         530526299555950  che poi è probabile che [hashtag] spataro [/ha...   \n",
       "...                   ...                                                ...   \n",
       "4395      391599381944152  [user] esatto brava ti dico di piu i nazisti n...   \n",
       "4396      974317501584882  [user] togliere la parola non vaccinati e mett...   \n",
       "4397      739414582677163  [user] [user] lo sai o no che i musulmani rico...   \n",
       "4398      470933865054049  berlino memoriale per gli ebrei assassinati d ...   \n",
       "4399      692345319594122  [user] [user] solo un terone dal culetto oliva...   \n",
       "\n",
       "      label         dataset  \n",
       "0         1   test_politics  \n",
       "1         1   test_politics  \n",
       "2         0   test_politics  \n",
       "3         0   test_politics  \n",
       "4         0   test_politics  \n",
       "...     ...             ...  \n",
       "4395      0  test_religious  \n",
       "4396      0  test_religious  \n",
       "4397      0  test_religious  \n",
       "4398      0  test_religious  \n",
       "4399      0  test_religious  \n",
       "\n",
       "[4400 rows x 4 columns]"
      ]
     },
     "execution_count": 17,
     "metadata": {},
     "output_type": "execute_result"
    }
   ],
   "source": [
    "test_data"
   ]
  },
  {
   "cell_type": "code",
   "execution_count": 18,
   "metadata": {
    "colab": {
     "base_uri": "https://localhost:8080/"
    },
    "executionInfo": {
     "elapsed": 7,
     "status": "ok",
     "timestamp": 1707911059355,
     "user": {
      "displayName": "Gabriele Benanti",
      "userId": "08053723087704014228"
     },
     "user_tz": -60
    },
    "id": "De2eW0eUVX-L",
    "outputId": "f6d33b31-f760-4901-ea6a-d6ad705046b6"
   },
   "outputs": [
    {
     "data": {
      "text/plain": [
       "array(['test_politics', 'test_religious'], dtype=object)"
      ]
     },
     "execution_count": 18,
     "metadata": {},
     "output_type": "execute_result"
    }
   ],
   "source": [
    "test_data['dataset'].unique()"
   ]
  },
  {
   "cell_type": "markdown",
   "metadata": {
    "id": "iKSh09bu1Hoc"
   },
   "source": [
    "### only for Task B"
   ]
  },
  {
   "cell_type": "code",
   "execution_count": 19,
   "metadata": {},
   "outputs": [],
   "source": [
    "test_religious_data = test_data.loc[test_data['dataset'] == 'test_religious']\n",
    "test_politics_data = test_data.loc[test_data['dataset'] == 'test_politics']"
   ]
  },
  {
   "cell_type": "code",
   "execution_count": 20,
   "metadata": {
    "colab": {
     "base_uri": "https://localhost:8080/",
     "height": 808
    },
    "executionInfo": {
     "elapsed": 6,
     "status": "ok",
     "timestamp": 1707911059355,
     "user": {
      "displayName": "Gabriele Benanti",
      "userId": "08053723087704014228"
     },
     "user_tz": -60
    },
    "id": "PGdVsnFk1HG2",
    "outputId": "bde45935-24b1-45db-a8c0-800c41366180"
   },
   "outputs": [
    {
     "data": {
      "text/html": [
       "<div>\n",
       "<style scoped>\n",
       "    .dataframe tbody tr th:only-of-type {\n",
       "        vertical-align: middle;\n",
       "    }\n",
       "\n",
       "    .dataframe tbody tr th {\n",
       "        vertical-align: top;\n",
       "    }\n",
       "\n",
       "    .dataframe thead th {\n",
       "        text-align: right;\n",
       "    }\n",
       "</style>\n",
       "<table border=\"1\" class=\"dataframe\">\n",
       "  <thead>\n",
       "    <tr style=\"text-align: right;\">\n",
       "      <th></th>\n",
       "      <th>anonymized_tweet_id</th>\n",
       "      <th>anonymized_text</th>\n",
       "      <th>label</th>\n",
       "      <th>dataset</th>\n",
       "    </tr>\n",
       "  </thead>\n",
       "  <tbody>\n",
       "    <tr>\n",
       "      <th>605</th>\n",
       "      <td>379748472796095</td>\n",
       "      <td>voglio abituare tutti gli abitanti del luogo e...</td>\n",
       "      <td>0</td>\n",
       "      <td>test_religious</td>\n",
       "    </tr>\n",
       "    <tr>\n",
       "      <th>606</th>\n",
       "      <td>195027074607893</td>\n",
       "      <td>l europa laica e comunista esce allo scoperto ...</td>\n",
       "      <td>0</td>\n",
       "      <td>test_religious</td>\n",
       "    </tr>\n",
       "    <tr>\n",
       "      <th>607</th>\n",
       "      <td>97213378242080</td>\n",
       "      <td>[user] gli ebrei insieme ai liberali e altre c...</td>\n",
       "      <td>0</td>\n",
       "      <td>test_religious</td>\n",
       "    </tr>\n",
       "    <tr>\n",
       "      <th>608</th>\n",
       "      <td>894894959501945</td>\n",
       "      <td>[user] la mussulmana lombarda per portarla a c...</td>\n",
       "      <td>1</td>\n",
       "      <td>test_religious</td>\n",
       "    </tr>\n",
       "    <tr>\n",
       "      <th>609</th>\n",
       "      <td>439618972593653</td>\n",
       "      <td>denunciare coloro che vogliono limitare le lib...</td>\n",
       "      <td>0</td>\n",
       "      <td>test_religious</td>\n",
       "    </tr>\n",
       "    <tr>\n",
       "      <th>...</th>\n",
       "      <td>...</td>\n",
       "      <td>...</td>\n",
       "      <td>...</td>\n",
       "      <td>...</td>\n",
       "    </tr>\n",
       "    <tr>\n",
       "      <th>4395</th>\n",
       "      <td>391599381944152</td>\n",
       "      <td>[user] esatto brava ti dico di piu i nazisti n...</td>\n",
       "      <td>0</td>\n",
       "      <td>test_religious</td>\n",
       "    </tr>\n",
       "    <tr>\n",
       "      <th>4396</th>\n",
       "      <td>974317501584882</td>\n",
       "      <td>[user] togliere la parola non vaccinati e mett...</td>\n",
       "      <td>0</td>\n",
       "      <td>test_religious</td>\n",
       "    </tr>\n",
       "    <tr>\n",
       "      <th>4397</th>\n",
       "      <td>739414582677163</td>\n",
       "      <td>[user] [user] lo sai o no che i musulmani rico...</td>\n",
       "      <td>0</td>\n",
       "      <td>test_religious</td>\n",
       "    </tr>\n",
       "    <tr>\n",
       "      <th>4398</th>\n",
       "      <td>470933865054049</td>\n",
       "      <td>berlino memoriale per gli ebrei assassinati d ...</td>\n",
       "      <td>0</td>\n",
       "      <td>test_religious</td>\n",
       "    </tr>\n",
       "    <tr>\n",
       "      <th>4399</th>\n",
       "      <td>692345319594122</td>\n",
       "      <td>[user] [user] solo un terone dal culetto oliva...</td>\n",
       "      <td>0</td>\n",
       "      <td>test_religious</td>\n",
       "    </tr>\n",
       "  </tbody>\n",
       "</table>\n",
       "<p>3000 rows × 4 columns</p>\n",
       "</div>"
      ],
      "text/plain": [
       "      anonymized_tweet_id                                    anonymized_text  \\\n",
       "605       379748472796095  voglio abituare tutti gli abitanti del luogo e...   \n",
       "606       195027074607893  l europa laica e comunista esce allo scoperto ...   \n",
       "607        97213378242080  [user] gli ebrei insieme ai liberali e altre c...   \n",
       "608       894894959501945  [user] la mussulmana lombarda per portarla a c...   \n",
       "609       439618972593653  denunciare coloro che vogliono limitare le lib...   \n",
       "...                   ...                                                ...   \n",
       "4395      391599381944152  [user] esatto brava ti dico di piu i nazisti n...   \n",
       "4396      974317501584882  [user] togliere la parola non vaccinati e mett...   \n",
       "4397      739414582677163  [user] [user] lo sai o no che i musulmani rico...   \n",
       "4398      470933865054049  berlino memoriale per gli ebrei assassinati d ...   \n",
       "4399      692345319594122  [user] [user] solo un terone dal culetto oliva...   \n",
       "\n",
       "      label         dataset  \n",
       "605       0  test_religious  \n",
       "606       0  test_religious  \n",
       "607       0  test_religious  \n",
       "608       1  test_religious  \n",
       "609       0  test_religious  \n",
       "...     ...             ...  \n",
       "4395      0  test_religious  \n",
       "4396      0  test_religious  \n",
       "4397      0  test_religious  \n",
       "4398      0  test_religious  \n",
       "4399      0  test_religious  \n",
       "\n",
       "[3000 rows x 4 columns]"
      ]
     },
     "execution_count": 20,
     "metadata": {},
     "output_type": "execute_result"
    }
   ],
   "source": [
    "test_religious_data"
   ]
  },
  {
   "cell_type": "code",
   "execution_count": 21,
   "metadata": {
    "colab": {
     "base_uri": "https://localhost:8080/",
     "height": 87
    },
    "executionInfo": {
     "elapsed": 5,
     "status": "ok",
     "timestamp": 1707911059355,
     "user": {
      "displayName": "Gabriele Benanti",
      "userId": "08053723087704014228"
     },
     "user_tz": -60
    },
    "id": "oQj37T2YVkcf",
    "outputId": "afbd0b89-c1f0-496f-bf96-3f924a558e11"
   },
   "outputs": [
    {
     "data": {
      "text/plain": [
       "\"# Function to count words in a sentence\\ndef count_words(sentence):\\n    words = sentence.split()\\n    return len(words)\\nsentences = training_data['anonymized_text'].copy()\\n# Apply the function to each sentence in the series\\nword_counts = sentences.apply(count_words)\\n\\n# Find the maximum word count in the series\\nmax_word_count = word_counts.max()\\n\\nmax_word_count #in the test was 106 the max.\""
      ]
     },
     "execution_count": 21,
     "metadata": {},
     "output_type": "execute_result"
    }
   ],
   "source": [
    "\"\"\"# Function to count words in a sentence\n",
    "def count_words(sentence):\n",
    "    words = sentence.split()\n",
    "    return len(words)\n",
    "sentences = training_data['anonymized_text'].copy()\n",
    "# Apply the function to each sentence in the series\n",
    "word_counts = sentences.apply(count_words)\n",
    "\n",
    "# Find the maximum word count in the series\n",
    "max_word_count = word_counts.max()\n",
    "\n",
    "max_word_count #in the test was 106 the max.\"\"\""
   ]
  },
  {
   "cell_type": "code",
   "execution_count": 22,
   "metadata": {
    "colab": {
     "base_uri": "https://localhost:8080/",
     "height": 81,
     "referenced_widgets": [
      "b630545e4007429380b30a4682787583",
      "d8518a4cd89e48dfa203dc8501bcf1fc",
      "0d1f418950b54429ba51be762d54c487",
      "598c6a98d7974a889711983746e36e02",
      "eac84fa2a7104e3c92a55c56bf895811",
      "05b27f06a8364a878751f3ae1ed27657",
      "710ba854ea1341acb59ccb8d742184bc",
      "83dae110ee5944f69bd6372365c5ea37",
      "6eb21c21469d4d93ad506388865aeee6",
      "19f2ac190bbb4895ae5b79b39e7156ba",
      "1c347ea27d424d5dae4365507a84d4d4",
      "26f8b9ae497c4125a2d7380c1a2b2829",
      "4262d7ee9d4242bba7e00ffd53011759",
      "674ddc24661a4e6995648adffb4e3de0",
      "dd87da5b993d47d3bb8cad521ee8346f",
      "12b669165d024aca9f8749647266bb1e",
      "f3e1d6a112ba488290d4d50780717f1e",
      "87a6cb491bb842bf8bd6867394c50450",
      "aa2dc861aed44c068109310751b59f03",
      "b4e762caab4c43198c3f426b4227f062",
      "b0730f9c19ab4358bd3947dde2d61802",
      "1d6d5e52a03f413786811a4d241b6217"
     ]
    },
    "executionInfo": {
     "elapsed": 7716,
     "status": "ok",
     "timestamp": 1707911067066,
     "user": {
      "displayName": "Gabriele Benanti",
      "userId": "08053723087704014228"
     },
     "user_tz": -60
    },
    "id": "jEBEjeOBl6KG",
    "outputId": "e4e69b78-4990-482e-d184-f8f880985aba"
   },
   "outputs": [
    {
     "name": "stderr",
     "output_type": "stream",
     "text": [
      "Special tokens have been added in the vocabulary, make sure the associated word embedding are fine-tuned or trained.\n"
     ]
    }
   ],
   "source": [
    "# Load model directly\n",
    "from transformers import AutoTokenizer\n",
    "\n",
    "#max_length = 300\n",
    "\n",
    "tokenizer = AutoTokenizer.from_pretrained(\"idb-ita/gilberto-uncased-from-camembert\")\n",
    "\n",
    "def tokenize_function(sentence):\n",
    "    tokens = tokenizer.encode_plus(sentence, max_length=max_length,\n",
    "                                   truncation=True, padding='max_length',\n",
    "                                   add_special_tokens=True, return_attention_mask=True,\n",
    "                                   return_token_type_ids=False, return_tensors='tf')\n",
    "    return tokens['input_ids'], tokens['attention_mask']"
   ]
  },
  {
   "cell_type": "markdown",
   "metadata": {
    "id": "zgBYvw6oBBxz"
   },
   "source": [
    "## Train-Test Split + Tweets transformation for the model"
   ]
  },
  {
   "cell_type": "code",
   "execution_count": 23,
   "metadata": {
    "executionInfo": {
     "elapsed": 8,
     "status": "ok",
     "timestamp": 1707911067066,
     "user": {
      "displayName": "Gabriele Benanti",
      "userId": "08053723087704014228"
     },
     "user_tz": -60
    },
    "id": "gyU9Uze6dJI2"
   },
   "outputs": [],
   "source": [
    "from sklearn.model_selection import train_test_split\n",
    "\n",
    "labels = training_data['label']\n",
    "\n",
    "X_train, X_val, y_train, y_val = train_test_split(training_data, labels, test_size=0.20, random_state=SEED, stratify=labels)"
   ]
  },
  {
   "cell_type": "code",
   "execution_count": 24,
   "metadata": {
    "colab": {
     "base_uri": "https://localhost:8080/",
     "height": 400
    },
    "executionInfo": {
     "elapsed": 7,
     "status": "ok",
     "timestamp": 1707911067066,
     "user": {
      "displayName": "Gabriele Benanti",
      "userId": "08053723087704014228"
     },
     "user_tz": -60
    },
    "id": "JQd_we1gYa34",
    "outputId": "2d050c68-b013-498c-d2e1-225a590dba91"
   },
   "outputs": [
    {
     "data": {
      "text/html": [
       "<div>\n",
       "<style scoped>\n",
       "    .dataframe tbody tr th:only-of-type {\n",
       "        vertical-align: middle;\n",
       "    }\n",
       "\n",
       "    .dataframe tbody tr th {\n",
       "        vertical-align: top;\n",
       "    }\n",
       "\n",
       "    .dataframe thead th {\n",
       "        text-align: right;\n",
       "    }\n",
       "</style>\n",
       "<table border=\"1\" class=\"dataframe\">\n",
       "  <thead>\n",
       "    <tr style=\"text-align: right;\">\n",
       "      <th></th>\n",
       "      <th>anonymized_text</th>\n",
       "      <th>label</th>\n",
       "    </tr>\n",
       "  </thead>\n",
       "  <tbody>\n",
       "    <tr>\n",
       "      <th>1777</th>\n",
       "      <td>[hashtag] decreto cura italia [/hashtag] [hash...</td>\n",
       "      <td>0</td>\n",
       "    </tr>\n",
       "    <tr>\n",
       "      <th>216</th>\n",
       "      <td>il premier [hashtag] conte [/hashtag] ha appen...</td>\n",
       "      <td>0</td>\n",
       "    </tr>\n",
       "    <tr>\n",
       "      <th>4524</th>\n",
       "      <td>[hashtag] salvini pagliaccio [/hashtag] cosa n...</td>\n",
       "      <td>1</td>\n",
       "    </tr>\n",
       "    <tr>\n",
       "      <th>5452</th>\n",
       "      <td>il [hashtag] movimento cinque stelle [/hashtag...</td>\n",
       "      <td>0</td>\n",
       "    </tr>\n",
       "    <tr>\n",
       "      <th>5742</th>\n",
       "      <td>vaticano contro trump appello alla chiesa usa ...</td>\n",
       "      <td>0</td>\n",
       "    </tr>\n",
       "  </tbody>\n",
       "</table>\n",
       "</div>"
      ],
      "text/plain": [
       "                                        anonymized_text  label\n",
       "1777  [hashtag] decreto cura italia [/hashtag] [hash...      0\n",
       "216   il premier [hashtag] conte [/hashtag] ha appen...      0\n",
       "4524  [hashtag] salvini pagliaccio [/hashtag] cosa n...      1\n",
       "5452  il [hashtag] movimento cinque stelle [/hashtag...      0\n",
       "5742  vaticano contro trump appello alla chiesa usa ...      0"
      ]
     },
     "execution_count": 24,
     "metadata": {},
     "output_type": "execute_result"
    }
   ],
   "source": [
    "X_train.head()"
   ]
  },
  {
   "cell_type": "code",
   "execution_count": 25,
   "metadata": {
    "executionInfo": {
     "elapsed": 7,
     "status": "ok",
     "timestamp": 1707911067066,
     "user": {
      "displayName": "Gabriele Benanti",
      "userId": "08053723087704014228"
     },
     "user_tz": -60
    },
    "id": "GdH7qxb2Ya34"
   },
   "outputs": [],
   "source": [
    "def dumb_fun(Xmask):\n",
    "    num_ones = np.count_nonzero(Xmask[i,:] == 1)\n",
    "    if num_ones >= 260:\n",
    "        print(Xmask[i,:])\n",
    "        print(f\"The number of ones in the ndarray is: {num_ones}\")"
   ]
  },
  {
   "cell_type": "markdown",
   "metadata": {
    "id": "8X8kKCcsYa34"
   },
   "source": [
    "### **Normalize dataset**"
   ]
  },
  {
   "cell_type": "code",
   "execution_count": 26,
   "metadata": {
    "executionInfo": {
     "elapsed": 6,
     "status": "ok",
     "timestamp": 1707911067066,
     "user": {
      "displayName": "Gabriele Benanti",
      "userId": "08053723087704014228"
     },
     "user_tz": -60
    },
    "id": "PPaWOsYBYa34"
   },
   "outputs": [
    {
     "data": {
      "text/plain": [
       "\"# Initialize the scaler\\nscaler = StandardScaler()\\ncolumns_to_normalize = ['retweet_count', 'favorite_count', 'statuses_count', 'followers_count', 'friends_count']\\n\\n# Fit the scaler on the training data and transform it\\nX_train[columns_to_normalize] = scaler.fit_transform(X_train[columns_to_normalize])\\n\\n# Transform the validation and test data with the same scaler\\nX_val[columns_to_normalize] = scaler.transform(X_val[columns_to_normalize])\\ntest_data[columns_to_normalize] = scaler.transform(test_data[columns_to_normalize])\""
      ]
     },
     "execution_count": 26,
     "metadata": {},
     "output_type": "execute_result"
    }
   ],
   "source": [
    "\"\"\"# Initialize the scaler\n",
    "scaler = StandardScaler()\n",
    "columns_to_normalize = ['retweet_count', 'favorite_count', 'statuses_count', 'followers_count', 'friends_count']\n",
    "\n",
    "# Fit the scaler on the training data and transform it\n",
    "X_train[columns_to_normalize] = scaler.fit_transform(X_train[columns_to_normalize])\n",
    "\n",
    "# Transform the validation and test data with the same scaler\n",
    "X_val[columns_to_normalize] = scaler.transform(X_val[columns_to_normalize])\n",
    "test_data[columns_to_normalize] = scaler.transform(test_data[columns_to_normalize])\"\"\""
   ]
  },
  {
   "cell_type": "code",
   "execution_count": 27,
   "metadata": {
    "colab": {
     "base_uri": "https://localhost:8080/",
     "height": 400
    },
    "executionInfo": {
     "elapsed": 6,
     "status": "ok",
     "timestamp": 1707911067066,
     "user": {
      "displayName": "Gabriele Benanti",
      "userId": "08053723087704014228"
     },
     "user_tz": -60
    },
    "id": "cZC1FDFnYa34",
    "outputId": "57030149-834e-4373-a276-d298af22571f"
   },
   "outputs": [
    {
     "data": {
      "text/html": [
       "<div>\n",
       "<style scoped>\n",
       "    .dataframe tbody tr th:only-of-type {\n",
       "        vertical-align: middle;\n",
       "    }\n",
       "\n",
       "    .dataframe tbody tr th {\n",
       "        vertical-align: top;\n",
       "    }\n",
       "\n",
       "    .dataframe thead th {\n",
       "        text-align: right;\n",
       "    }\n",
       "</style>\n",
       "<table border=\"1\" class=\"dataframe\">\n",
       "  <thead>\n",
       "    <tr style=\"text-align: right;\">\n",
       "      <th></th>\n",
       "      <th>anonymized_text</th>\n",
       "      <th>label</th>\n",
       "    </tr>\n",
       "  </thead>\n",
       "  <tbody>\n",
       "    <tr>\n",
       "      <th>1777</th>\n",
       "      <td>[hashtag] decreto cura italia [/hashtag] [hash...</td>\n",
       "      <td>0</td>\n",
       "    </tr>\n",
       "    <tr>\n",
       "      <th>216</th>\n",
       "      <td>il premier [hashtag] conte [/hashtag] ha appen...</td>\n",
       "      <td>0</td>\n",
       "    </tr>\n",
       "    <tr>\n",
       "      <th>4524</th>\n",
       "      <td>[hashtag] salvini pagliaccio [/hashtag] cosa n...</td>\n",
       "      <td>1</td>\n",
       "    </tr>\n",
       "    <tr>\n",
       "      <th>5452</th>\n",
       "      <td>il [hashtag] movimento cinque stelle [/hashtag...</td>\n",
       "      <td>0</td>\n",
       "    </tr>\n",
       "    <tr>\n",
       "      <th>5742</th>\n",
       "      <td>vaticano contro trump appello alla chiesa usa ...</td>\n",
       "      <td>0</td>\n",
       "    </tr>\n",
       "  </tbody>\n",
       "</table>\n",
       "</div>"
      ],
      "text/plain": [
       "                                        anonymized_text  label\n",
       "1777  [hashtag] decreto cura italia [/hashtag] [hash...      0\n",
       "216   il premier [hashtag] conte [/hashtag] ha appen...      0\n",
       "4524  [hashtag] salvini pagliaccio [/hashtag] cosa n...      1\n",
       "5452  il [hashtag] movimento cinque stelle [/hashtag...      0\n",
       "5742  vaticano contro trump appello alla chiesa usa ...      0"
      ]
     },
     "execution_count": 27,
     "metadata": {},
     "output_type": "execute_result"
    }
   ],
   "source": [
    "X_train.head()"
   ]
  },
  {
   "cell_type": "code",
   "execution_count": 28,
   "metadata": {
    "colab": {
     "base_uri": "https://localhost:8080/",
     "height": 400
    },
    "executionInfo": {
     "elapsed": 6,
     "status": "ok",
     "timestamp": 1707911067066,
     "user": {
      "displayName": "Gabriele Benanti",
      "userId": "08053723087704014228"
     },
     "user_tz": -60
    },
    "id": "I3yRDwLsYa34",
    "outputId": "35b3729a-749e-45c4-92c1-41a6502b1359"
   },
   "outputs": [
    {
     "data": {
      "text/html": [
       "<div>\n",
       "<style scoped>\n",
       "    .dataframe tbody tr th:only-of-type {\n",
       "        vertical-align: middle;\n",
       "    }\n",
       "\n",
       "    .dataframe tbody tr th {\n",
       "        vertical-align: top;\n",
       "    }\n",
       "\n",
       "    .dataframe thead th {\n",
       "        text-align: right;\n",
       "    }\n",
       "</style>\n",
       "<table border=\"1\" class=\"dataframe\">\n",
       "  <thead>\n",
       "    <tr style=\"text-align: right;\">\n",
       "      <th></th>\n",
       "      <th>anonymized_text</th>\n",
       "      <th>label</th>\n",
       "    </tr>\n",
       "  </thead>\n",
       "  <tbody>\n",
       "    <tr>\n",
       "      <th>5481</th>\n",
       "      <td>[user] [user] potreste segnalare a [hashtag] d...</td>\n",
       "      <td>0</td>\n",
       "    </tr>\n",
       "    <tr>\n",
       "      <th>2900</th>\n",
       "      <td>gli [hashtag] animali [/hashtag] [hashtag] dom...</td>\n",
       "      <td>0</td>\n",
       "    </tr>\n",
       "    <tr>\n",
       "      <th>5296</th>\n",
       "      <td>[user] è un vizio dei mattei [hashtag] renzi [...</td>\n",
       "      <td>1</td>\n",
       "    </tr>\n",
       "    <tr>\n",
       "      <th>6843</th>\n",
       "      <td>eh si anche lui niente obiettivo magistrati tu...</td>\n",
       "      <td>0</td>\n",
       "    </tr>\n",
       "    <tr>\n",
       "      <th>10874</th>\n",
       "      <td>[hashtag] roma [/hashtag] [number] [number] en...</td>\n",
       "      <td>1</td>\n",
       "    </tr>\n",
       "  </tbody>\n",
       "</table>\n",
       "</div>"
      ],
      "text/plain": [
       "                                         anonymized_text  label\n",
       "5481   [user] [user] potreste segnalare a [hashtag] d...      0\n",
       "2900   gli [hashtag] animali [/hashtag] [hashtag] dom...      0\n",
       "5296   [user] è un vizio dei mattei [hashtag] renzi [...      1\n",
       "6843   eh si anche lui niente obiettivo magistrati tu...      0\n",
       "10874  [hashtag] roma [/hashtag] [number] [number] en...      1"
      ]
     },
     "execution_count": 28,
     "metadata": {},
     "output_type": "execute_result"
    }
   ],
   "source": [
    "X_val.head()"
   ]
  },
  {
   "cell_type": "code",
   "execution_count": 29,
   "metadata": {
    "colab": {
     "base_uri": "https://localhost:8080/",
     "height": 400
    },
    "executionInfo": {
     "elapsed": 5,
     "status": "ok",
     "timestamp": 1707911067066,
     "user": {
      "displayName": "Gabriele Benanti",
      "userId": "08053723087704014228"
     },
     "user_tz": -60
    },
    "id": "twpkzCCuYa34",
    "outputId": "188078fb-eac6-4b28-8953-2b7df780e561"
   },
   "outputs": [
    {
     "data": {
      "text/html": [
       "<div>\n",
       "<style scoped>\n",
       "    .dataframe tbody tr th:only-of-type {\n",
       "        vertical-align: middle;\n",
       "    }\n",
       "\n",
       "    .dataframe tbody tr th {\n",
       "        vertical-align: top;\n",
       "    }\n",
       "\n",
       "    .dataframe thead th {\n",
       "        text-align: right;\n",
       "    }\n",
       "</style>\n",
       "<table border=\"1\" class=\"dataframe\">\n",
       "  <thead>\n",
       "    <tr style=\"text-align: right;\">\n",
       "      <th></th>\n",
       "      <th>anonymized_tweet_id</th>\n",
       "      <th>anonymized_text</th>\n",
       "      <th>label</th>\n",
       "      <th>dataset</th>\n",
       "    </tr>\n",
       "  </thead>\n",
       "  <tbody>\n",
       "    <tr>\n",
       "      <th>0</th>\n",
       "      <td>424801448454884</td>\n",
       "      <td>questo anno [hashtag] babbo natale [/hashtag] ...</td>\n",
       "      <td>1</td>\n",
       "      <td>test_politics</td>\n",
       "    </tr>\n",
       "    <tr>\n",
       "      <th>1</th>\n",
       "      <td>775194088981616</td>\n",
       "      <td>adesso che in mezzo alla strada grazie al verg...</td>\n",
       "      <td>1</td>\n",
       "      <td>test_politics</td>\n",
       "    </tr>\n",
       "    <tr>\n",
       "      <th>2</th>\n",
       "      <td>386928936347190</td>\n",
       "      <td>circondatevi di persone che non sono diventate...</td>\n",
       "      <td>0</td>\n",
       "      <td>test_politics</td>\n",
       "    </tr>\n",
       "    <tr>\n",
       "      <th>3</th>\n",
       "      <td>957546674360002</td>\n",
       "      <td>seriamente per capire se un ladro mi entra in ...</td>\n",
       "      <td>0</td>\n",
       "      <td>test_politics</td>\n",
       "    </tr>\n",
       "    <tr>\n",
       "      <th>4</th>\n",
       "      <td>530526299555950</td>\n",
       "      <td>che poi è probabile che [hashtag] spataro [/ha...</td>\n",
       "      <td>0</td>\n",
       "      <td>test_politics</td>\n",
       "    </tr>\n",
       "  </tbody>\n",
       "</table>\n",
       "</div>"
      ],
      "text/plain": [
       "   anonymized_tweet_id                                    anonymized_text  \\\n",
       "0      424801448454884  questo anno [hashtag] babbo natale [/hashtag] ...   \n",
       "1      775194088981616  adesso che in mezzo alla strada grazie al verg...   \n",
       "2      386928936347190  circondatevi di persone che non sono diventate...   \n",
       "3      957546674360002  seriamente per capire se un ladro mi entra in ...   \n",
       "4      530526299555950  che poi è probabile che [hashtag] spataro [/ha...   \n",
       "\n",
       "   label        dataset  \n",
       "0      1  test_politics  \n",
       "1      1  test_politics  \n",
       "2      0  test_politics  \n",
       "3      0  test_politics  \n",
       "4      0  test_politics  "
      ]
     },
     "execution_count": 29,
     "metadata": {},
     "output_type": "execute_result"
    }
   ],
   "source": [
    "test_data.head()"
   ]
  },
  {
   "cell_type": "code",
   "execution_count": 30,
   "metadata": {
    "executionInfo": {
     "elapsed": 2072,
     "status": "ok",
     "timestamp": 1707911069800,
     "user": {
      "displayName": "Gabriele Benanti",
      "userId": "08053723087704014228"
     },
     "user_tz": -60
    },
    "id": "uPcmTIr4DYhS"
   },
   "outputs": [
    {
     "name": "stdout",
     "output_type": "stream",
     "text": [
      "<TensorSliceDataset shapes: ((357,), (357,), ()), types: (tf.float64, tf.float64, tf.int64)>\n"
     ]
    }
   ],
   "source": [
    "# initialize two arrays for input tensors\n",
    "Xids = np.zeros((len(X_train['anonymized_text']), max_length))\n",
    "Xmask = np.zeros((len(X_train['anonymized_text']), max_length))\n",
    "\n",
    "for i, sentence in enumerate(X_train['anonymized_text']):\n",
    "    Xids[i, :], Xmask[i, :] = tokenize_function(sentence)\n",
    "labels = y_train\n",
    "BATCH_SIZE = 128  # we will use batches of 128\n",
    "\n",
    "# load arrays into tensorflow dataset\n",
    "dataset = tf.data.Dataset.from_tensor_slices((Xids, Xmask, labels))\n",
    "\n",
    "print(dataset)\n",
    "\n",
    "# create a mapping function that we use to restructure our dataset\n",
    "def map_func(input_ids, masks, labels):\n",
    "    return {'input_ids': input_ids, 'attention_mask': masks}, labels\n",
    "\n",
    "# using map method to apply map_func to dataset\n",
    "dataset = dataset.map(map_func)\n",
    "\n",
    "# batch data\n",
    "dataset = dataset.batch(BATCH_SIZE)\n",
    "train = dataset\n",
    "del dataset"
   ]
  },
  {
   "cell_type": "code",
   "execution_count": 31,
   "metadata": {
    "executionInfo": {
     "elapsed": 4,
     "status": "ok",
     "timestamp": 1707911069800,
     "user": {
      "displayName": "Gabriele Benanti",
      "userId": "08053723087704014228"
     },
     "user_tz": -60
    },
    "id": "aXF6_vW1Ya35"
   },
   "outputs": [
    {
     "name": "stdout",
     "output_type": "stream",
     "text": [
      "['▁s', '▁[', 'ha', 'shtag', ']', '▁decreto', '▁cura', '▁italia', '▁[', '/', 'ha', 'shtag', ']', '▁[', 'ha', 'shtag', ']', '▁decreto', '▁marzo', '▁[', '/', 'ha', 'shtag', ']', '▁usare', '▁la', '▁[', 'ha', 'shtag', ']', '▁cd', 'p', '▁[', '/', 'ha', 'shtag', ']', '▁per', '▁fronteggiare', '▁la', '▁crisi', '▁da', '▁[', 'ha', 'shtag', ']', '▁co', 'vi', 'd', '▁[', 'nu', 'mber', ']', '▁[', '/', 'ha', 'shtag', ']', '▁non', '▁si', '▁può', '▁para', 'gon', 'arla', '▁alla', '▁[', 'ha', 'shtag', ']', '▁k', 'f', 'w', 'bank', '▁[', '/', 'ha', 'shtag', ']', '▁quest', '▁ultima', '▁è', '▁infalli', 'bile', '▁la', '▁[', 'ha', 'shtag', ']', '▁cd', 'p', '▁[', '/', 'ha', 'shtag', ']', '▁viene', '▁garantita', '▁con', '▁i', '▁suoi', '▁depositi', '▁gran', '▁parte', '▁risparmi', '▁degli', '▁italiani', '▁e', '▁solo', '▁in', '▁parte', '▁dallo', '▁stato', '▁[', 'user', ']', 'on', '<pad>', '<pad>', '<pad>', '<pad>', '<pad>', '<pad>', '<pad>', '<pad>', '<pad>', '<pad>', '<pad>', '<pad>', '<pad>', '<pad>', '<pad>', '<pad>', '<pad>', '<pad>', '<pad>', '<pad>', '<pad>', '<pad>', '<pad>', '<pad>', '<pad>', '<pad>', '<pad>', '<pad>', '<pad>', '<pad>', '<pad>', '<pad>', '<pad>', '<pad>', '<pad>', '<pad>', '<pad>', '<pad>', '<pad>', '<pad>', '<pad>', '<pad>', '<pad>', '<pad>', '<pad>', '<pad>', '<pad>', '<pad>', '<pad>', '<pad>', '<pad>', '<pad>', '<pad>', '<pad>', '<pad>', '<pad>', '<pad>', '<pad>', '<pad>', '<pad>', '<pad>', '<pad>', '<pad>', '<pad>', '<pad>', '<pad>', '<pad>', '<pad>', '<pad>', '<pad>', '<pad>', '<pad>', '<pad>', '<pad>', '<pad>', '<pad>', '<pad>', '<pad>', '<pad>', '<pad>', '<pad>', '<pad>', '<pad>', '<pad>', '<pad>', '<pad>', '<pad>', '<pad>', '<pad>', '<pad>', '<pad>', '<pad>', '<pad>', '<pad>', '<pad>', '<pad>', '<pad>', '<pad>', '<pad>', '<pad>', '<pad>', '<pad>', '<pad>', '<pad>', '<pad>', '<pad>', '<pad>', '<pad>', '<pad>', '<pad>', '<pad>', '<pad>', '<pad>', '<pad>', '<pad>', '<pad>', '<pad>', '<pad>', '<pad>', '<pad>', '<pad>', '<pad>', '<pad>', '<pad>', '<pad>', '<pad>', '<pad>', '<pad>', '<pad>', '<pad>', '<pad>', '<pad>', '<pad>', '<pad>', '<pad>', '<pad>', '<pad>', '<pad>', '<pad>', '<pad>', '<pad>', '<pad>', '<pad>', '<pad>', '<pad>', '<pad>', '<pad>', '<pad>', '<pad>', '<pad>', '<pad>', '<pad>', '<pad>', '<pad>', '<pad>', '<pad>', '<pad>', '<pad>', '<pad>', '<pad>', '<pad>', '<pad>', '<pad>', '<pad>', '<pad>', '<pad>', '<pad>', '<pad>', '<pad>', '<pad>', '<pad>', '<pad>', '<pad>', '<pad>', '<pad>', '<pad>', '<pad>', '<pad>', '<pad>', '<pad>', '<pad>', '<pad>', '<pad>', '<pad>', '<pad>', '<pad>', '<pad>', '<pad>', '<pad>', '<pad>', '<pad>', '<pad>', '<pad>', '<pad>', '<pad>', '<pad>', '<pad>', '<pad>', '<pad>', '<pad>', '<pad>', '<pad>', '<pad>', '<pad>', '<pad>', '<pad>', '<pad>', '<pad>', '<pad>', '<pad>', '<pad>', '<pad>', '<pad>', '<pad>', '<pad>', '<pad>', '<pad>', '<pad>', '<pad>', '<pad>', '<pad>', '<pad>', '<pad>', '<pad>', '<pad>', '<pad>', '<pad>', '<pad>', '<pad>', '<pad>', '<pad>', '<pad>', '<pad>', '<pad>', '<pad>', '<pad>', '<pad>', '<pad>', '<pad>', '<pad>', '<pad>']\n"
     ]
    }
   ],
   "source": [
    "print(tokenizer.convert_ids_to_tokens(Xids[0,:]))"
   ]
  },
  {
   "cell_type": "code",
   "execution_count": 32,
   "metadata": {
    "colab": {
     "base_uri": "https://localhost:8080/",
     "height": 87
    },
    "executionInfo": {
     "elapsed": 4,
     "status": "ok",
     "timestamp": 1707911069800,
     "user": {
      "displayName": "Gabriele Benanti",
      "userId": "08053723087704014228"
     },
     "user_tz": -60
    },
    "id": "KKcxeUw0Ya35",
    "outputId": "1a6d3b93-de46-41f8-ccab-629d857ad296"
   },
   "outputs": [
    {
     "data": {
      "text/plain": [
       "'tokenizer = AutoTokenizer.from_pretrained(\"m-polignano-uniba/bert_uncased_L-12_H-768_A-12_italian_alb3rt0\")\\n\\nphrase = \" <hashtag> movimento cinque stelle </hashtag>\"\\nphrase1 = \" <number> salvini a casa\"\\n    #X_train[X_train[\\'anonymized_text\\'].str.contains(r\\'.*[0-9].*\\', regex=True)][\\'anonymized_text\\'][5186]\\n\\nXids[i, :], Xmask[i, :] = tokenize_function(phrase, phrase1)\\n\\nprint(tokenizer.convert_ids_to_tokens(Xids[0,:]))'"
      ]
     },
     "execution_count": 32,
     "metadata": {},
     "output_type": "execute_result"
    }
   ],
   "source": [
    "\"\"\"tokenizer = AutoTokenizer.from_pretrained(\"m-polignano-uniba/bert_uncased_L-12_H-768_A-12_italian_alb3rt0\")\n",
    "\n",
    "phrase = \" <hashtag> movimento cinque stelle </hashtag>\"\n",
    "phrase1 = \" <number> salvini a casa\"\n",
    "    #X_train[X_train['anonymized_text'].str.contains(r'.*[0-9].*', regex=True)]['anonymized_text'][5186]\n",
    "\n",
    "Xids[i, :], Xmask[i, :] = tokenize_function(phrase, phrase1)\n",
    "\n",
    "print(tokenizer.convert_ids_to_tokens(Xids[0,:]))\"\"\""
   ]
  },
  {
   "cell_type": "code",
   "execution_count": 33,
   "metadata": {
    "colab": {
     "base_uri": "https://localhost:8080/",
     "height": 70
    },
    "executionInfo": {
     "elapsed": 3,
     "status": "ok",
     "timestamp": 1707911069800,
     "user": {
      "displayName": "Gabriele Benanti",
      "userId": "08053723087704014228"
     },
     "user_tz": -60
    },
    "id": "wkXrY0IrYa35",
    "outputId": "023bfcd9-10dd-446f-b0c7-8d4fa0fe6283"
   },
   "outputs": [
    {
     "data": {
      "text/plain": [
       "'tokenizer = AutoTokenizer.from_pretrained(\"Musixmatch/umberto-commoncrawl-cased-v1\")\\n\\nphrase = \"[hashtag] [/hashtag] [url] [email] [percent] [money] [phone] [user] [time] [url] [date] [number] [allcaps] ciao! [/allcaps] m[number]s\"\\n\\nXids[i, :], Xmask[i, :] = tokenize_function(phrase)\\n\\nprint(tokenizer.convert_ids_to_tokens(Xids[i,:]))'"
      ]
     },
     "execution_count": 33,
     "metadata": {},
     "output_type": "execute_result"
    }
   ],
   "source": [
    "\"\"\"tokenizer = AutoTokenizer.from_pretrained(\"Musixmatch/umberto-commoncrawl-cased-v1\")\n",
    "\n",
    "phrase = \"[hashtag] [/hashtag] [url] [email] [percent] [money] [phone] [user] [time] [url] [date] [number] [allcaps] ciao! [/allcaps] m[number]s\"\n",
    "\n",
    "Xids[i, :], Xmask[i, :] = tokenize_function(phrase)\n",
    "\n",
    "print(tokenizer.convert_ids_to_tokens(Xids[i,:]))\"\"\""
   ]
  },
  {
   "cell_type": "code",
   "execution_count": 34,
   "metadata": {
    "executionInfo": {
     "elapsed": 3,
     "status": "ok",
     "timestamp": 1707911069800,
     "user": {
      "displayName": "Gabriele Benanti",
      "userId": "08053723087704014228"
     },
     "user_tz": -60
    },
    "id": "EDzhpuoaE573"
   },
   "outputs": [],
   "source": [
    "XidsVal = np.zeros((len(X_val['anonymized_text']), max_length))\n",
    "XmaskVal = np.zeros((len(X_val['anonymized_text']), max_length))\n",
    "\n",
    "for i, sentence in enumerate(X_val['anonymized_text']):\n",
    "    XidsVal[i, :], XmaskVal[i, :] = tokenize_function(sentence)\n",
    "\n",
    "labels_val = y_val\n",
    "\n",
    "dataset = tf.data.Dataset.from_tensor_slices((XidsVal, XmaskVal, labels_val))\n",
    "dataset = dataset.map(map_func)\n",
    "dataset = dataset.batch(BATCH_SIZE)\n",
    "validation = dataset\n",
    "del dataset"
   ]
  },
  {
   "cell_type": "code",
   "execution_count": 35,
   "metadata": {
    "executionInfo": {
     "elapsed": 999,
     "status": "ok",
     "timestamp": 1707911071569,
     "user": {
      "displayName": "Gabriele Benanti",
      "userId": "08053723087704014228"
     },
     "user_tz": -60
    },
    "id": "xfukYogwE-1d"
   },
   "outputs": [],
   "source": [
    "XidsTestPolitics = np.zeros((len(test_politics_data['anonymized_text']), max_length))\n",
    "XmaskTestPolitics = np.zeros((len(test_politics_data['anonymized_text']), max_length))\n",
    "\n",
    "for i, sentence in enumerate(test_politics_data['anonymized_text']):\n",
    "    XidsTestPolitics[i, :], XmaskTestPolitics[i, :] = tokenize_function(sentence)\n",
    "\n",
    "labelsTPolitics = test_politics_data['label']\n",
    "\n",
    "dataset = tf.data.Dataset.from_tensor_slices((XidsTestPolitics, XmaskTestPolitics, labelsTPolitics))\n",
    "dataset = dataset.map(map_func)\n",
    "dataset = dataset.batch(BATCH_SIZE)\n",
    "test_politics = dataset\n",
    "\n",
    "del dataset  # delete dataset to free up disk-space"
   ]
  },
  {
   "cell_type": "code",
   "execution_count": 36,
   "metadata": {
    "colab": {
     "base_uri": "https://localhost:8080/"
    },
    "executionInfo": {
     "elapsed": 3,
     "status": "ok",
     "timestamp": 1707911071569,
     "user": {
      "displayName": "Gabriele Benanti",
      "userId": "08053723087704014228"
     },
     "user_tz": -60
    },
    "id": "egUs_FHZYa35",
    "outputId": "6d230414-b2d7-485e-8511-1e4f57599b58"
   },
   "outputs": [],
   "source": [
    "XidsTestReligious = np.zeros((len(test_religious_data['anonymized_text']), max_length))\n",
    "XmaskTestReligious = np.zeros((len(test_religious_data['anonymized_text']), max_length))\n",
    "\n",
    "for i, sentence in enumerate(test_religious_data['anonymized_text']):\n",
    "    XidsTestReligious[i, :], XmaskTestReligious[i, :] = tokenize_function(sentence)\n",
    "\n",
    "labelsTReligious = test_religious_data['label']\n",
    "\n",
    "dataset = tf.data.Dataset.from_tensor_slices((XidsTestReligious, XmaskTestReligious, labelsTReligious))\n",
    "dataset = dataset.map(map_func)\n",
    "dataset = dataset.batch(BATCH_SIZE)\n",
    "test_religious = dataset\n",
    "\n",
    "del dataset  # delete dataset to free up disk-space"
   ]
  },
  {
   "cell_type": "markdown",
   "metadata": {
    "id": "DdjsWZ1fBNqn"
   },
   "source": [
    "## Model Training/Validation/Testing"
   ]
  },
  {
   "cell_type": "code",
   "execution_count": 37,
   "metadata": {
    "executionInfo": {
     "elapsed": 2,
     "status": "ok",
     "timestamp": 1707911071569,
     "user": {
      "displayName": "Gabriele Benanti",
      "userId": "08053723087704014228"
     },
     "user_tz": -60
    },
    "id": "2lRsS9JO_OYg"
   },
   "outputs": [],
   "source": [
    "import tensorflow as tf\n",
    "from tensorflow.keras.metrics import Precision, Recall\n",
    "class F1Score(tf.keras.metrics.Metric):\n",
    "    def __init__(self, name='f1_score', **kwargs):\n",
    "        super(F1Score, self).__init__(name=name, **kwargs)\n",
    "        self.precision = Precision()\n",
    "        self.recall = Recall()\n",
    "    def update_state(self, y_true, y_pred, sample_weight=None):\n",
    "        self.precision.update_state(y_true, y_pred, sample_weight)\n",
    "        self.recall.update_state(y_true, y_pred, sample_weight)\n",
    "    def result(self):\n",
    "        p = self.precision.result()\n",
    "        r = self.recall.result()\n",
    "        return 2 * ((p * r) / (p + r + tf.keras.backend.epsilon()))\n",
    "    def reset_states(self):\n",
    "        self.precision.reset_states()\n",
    "        self.recall.reset_states()"
   ]
  },
  {
   "cell_type": "code",
   "execution_count": 38,
   "metadata": {
    "executionInfo": {
     "elapsed": 2,
     "status": "ok",
     "timestamp": 1707911071569,
     "user": {
      "displayName": "Gabriele Benanti",
      "userId": "08053723087704014228"
     },
     "user_tz": -60
    },
    "id": "8YXoB2p8Ya35"
   },
   "outputs": [],
   "source": [
    "import tensorflow as tf\n",
    "from tensorflow import keras\n",
    "from tensorflow.keras import layers\n",
    "class TransformerBlock(layers.Layer):\n",
    "    def __init__(self, embed_dim, num_heads, ff_dim, rate=0.1):\n",
    "        super().__init__()\n",
    "        self.att = layers.MultiHeadAttention(num_heads=num_heads, key_dim=embed_dim)\n",
    "        self.ffn = keras.Sequential(\n",
    "            [layers.Dense(ff_dim, activation=\"relu\"), layers.Dense(embed_dim),]\n",
    "        )\n",
    "        self.layernorm1 = layers.LayerNormalization(epsilon=1e-6)\n",
    "        self.layernorm2 = layers.LayerNormalization(epsilon=1e-6)\n",
    "        self.dropout1 = layers.Dropout(rate)\n",
    "        self.dropout2 = layers.Dropout(rate)\n",
    "\n",
    "    def call(self, inputs, training):\n",
    "        attn_output = self.att(inputs, inputs)\n",
    "        attn_output = self.dropout1(attn_output, training=training)\n",
    "        out1 = self.layernorm1(inputs + attn_output)\n",
    "        ffn_output = self.ffn(out1)\n",
    "        ffn_output = self.dropout2(ffn_output, training=training)\n",
    "        return self.layernorm2(out1 + ffn_output)"
   ]
  },
  {
   "cell_type": "code",
   "execution_count": 39,
   "metadata": {
    "executionInfo": {
     "elapsed": 2,
     "status": "ok",
     "timestamp": 1707911071569,
     "user": {
      "displayName": "Gabriele Benanti",
      "userId": "08053723087704014228"
     },
     "user_tz": -60
    },
    "id": "4i1qsHSfFet0"
   },
   "outputs": [],
   "source": [
    "from transformers import TFAutoModel\n",
    "embed_dim = 768  # Embedding size for each token\n",
    "num_heads = 2  # Number of attention heads\n",
    "ff_dim = 32  # Hidden layer size in feed forward network inside transformer\n",
    "\n",
    "class MyHyperModel(HyperModel):\n",
    "    def build(self, hp):\n",
    "        model = TFAutoModel.from_pretrained(\"idb-ita/gilberto-uncased-from-camembert\", from_pt=True) #m-polignano-uniba/bert_uncased_L-12_H-768_A-12_italian_alb3rt0 #Musixmatch/umberto-commoncrawl-cased-v1\n",
    "\n",
    "        input_ids = Input(shape=(max_length,), name='input_ids', dtype='int32')\n",
    "        mask = Input(shape=(max_length,), name='attention_mask', dtype='int32')\n",
    "        \n",
    "        # we consume the last_hidden_state tensor from bert (discarding pooled_outputs)\n",
    "        embeddings = model(input_ids, attention_mask=mask)[0]\n",
    "\n",
    "        #X = TransformerBlock(embed_dim=embed_dim,num_heads=num_heads, ff_dim=ff_dim)(embeddings)\n",
    "        X = Bidirectional(LSTM(units=hp.Choice('LSTM_units', values=[64, 128]), recurrent_dropout=hp.Choice('LSTM_recurrent_dropout', values=[0.0,0.3]), return_sequences= True))(embeddings)\n",
    "        X = GlobalMaxPool1D()(X)\n",
    "        X = Dropout(rate=hp.Choice('rate_dropout', values=[0.6, 0.7]))(X)\n",
    "        #X = BatchNormalization()(X)\n",
    "        X = Dense(units=hp.Choice('dense_units', values=[16,32,64]),kernel_regularizer=regularizers.L2(hp.Choice('reg_value', [0.0,0.01,0.001])), activation=\"relu\")(X)\n",
    "        y = Dense(1, activation='sigmoid', name='outputs')(X)\n",
    "\n",
    "        # define input and output layers of our model\n",
    "        best_model = Model(inputs=[input_ids, mask], outputs=y)\n",
    "\n",
    "        # freeze the BERT layer - otherwise we will be training 100M+ parameters...\n",
    "        best_model.layers[2].trainable = False\n",
    "\n",
    "        best_model.compile(optimizer=Adam(learning_rate = hp.Choice('learning_rate', values=[0.01, 1e-3]), clipnorm= hp.Choice('clip_norm', values= [1,3])), loss=\"binary_crossentropy\", metrics=[F1Score()])\n",
    "        return best_model"
   ]
  },
  {
   "cell_type": "markdown",
   "metadata": {
    "id": "QgPT140JYa35"
   },
   "source": [
    "0.001 l.r.\n",
    "\n",
    "clipnorm 2, dropout 05 val:0.873 test:0.896 | 06 val:0.869 test:0.89 | 07 val:0.871 test: 0.895\n",
    "\n",
    "clipnorm 5, dropout 05 val:nondegnodinota test:nondegnodinota | 06 val:0.870 test:0.90 | (18 epoche) 07 val:0.8738 test: 0.8986 (molto bilanciate le classi, no overfitting) (LSTM singola)\n",
    "\n",
    "0.01 l.r.\n",
    "\n",
    "clipnorm 3, dropout 07 val: 0.88 test: 0.905 LSTM 64"
   ]
  },
  {
   "cell_type": "code",
   "execution_count": 40,
   "metadata": {
    "colab": {
     "base_uri": "https://localhost:8080/",
     "height": 173,
     "referenced_widgets": [
      "c79e444a12244792b35acd881ea8f2c9",
      "3ba5c6cd34a9495f9abd55f8cb5a37c1",
      "06b409d1d59e4d43bf317b3d66525d2f",
      "82b030240984437e92cf63bb25a611f1",
      "f7967ecc52114e88a6ec9521c4ebb25c",
      "b261bd8c303141f698c3093d5f38b0d9",
      "7790d9b832bd481fa5a40858d6a03d6e",
      "a151bfb139f940db950bb4383bee90a4",
      "8777f0931c6b4ca9bcf4701015df92e1",
      "39eb5a9308c242cc8d12ae268ac4c863",
      "bd0f835a5b48412aafe661107d527b7f"
     ]
    },
    "executionInfo": {
     "elapsed": 30280,
     "status": "ok",
     "timestamp": 1707911101847,
     "user": {
      "displayName": "Gabriele Benanti",
      "userId": "08053723087704014228"
     },
     "user_tz": -60
    },
    "id": "QbTtzksGIwy7",
    "outputId": "0b3640f0-c3b1-44cc-9a5d-1e99523d8097"
   },
   "outputs": [
    {
     "name": "stderr",
     "output_type": "stream",
     "text": [
      "Some weights of the PyTorch model were not used when initializing the TF 2.0 model TFCamembertModel: ['lm_head.dense.bias', 'lm_head.layer_norm.weight', 'lm_head.layer_norm.bias', 'lm_head.dense.weight', 'lm_head.bias', 'lm_head.decoder.weight']\n",
      "- This IS expected if you are initializing TFCamembertModel from a PyTorch model trained on another task or with another architecture (e.g. initializing a TFBertForSequenceClassification model from a BertForPreTraining model).\n",
      "- This IS NOT expected if you are initializing TFCamembertModel from a PyTorch model that you expect to be exactly identical (e.g. initializing a TFBertForSequenceClassification model from a BertForSequenceClassification model).\n",
      "All the weights of TFCamembertModel were initialized from the PyTorch model.\n",
      "If your task is similar to the task the model of the checkpoint was trained on, you can already use TFCamembertModel for predictions without further training.\n"
     ]
    },
    {
     "name": "stdout",
     "output_type": "stream",
     "text": [
      "WARNING:tensorflow:AutoGraph could not transform <bound method Socket.send of <zmq.sugar.socket.Socket object at 0x7fb6d3a6cca0>> and will run it as-is.\n",
      "Please report this to the TensorFlow team. When filing the bug, set the verbosity to 10 (on Linux, `export AUTOGRAPH_VERBOSITY=10`) and attach the full output.\n",
      "Cause: module, class, method, function, traceback, frame, or code object was expected, got cython_function_or_method\n",
      "To silence this warning, decorate the function with @tf.autograph.experimental.do_not_convert\n",
      "WARNING: AutoGraph could not transform <bound method Socket.send of <zmq.sugar.socket.Socket object at 0x7fb6d3a6cca0>> and will run it as-is.\n",
      "Please report this to the TensorFlow team. When filing the bug, set the verbosity to 10 (on Linux, `export AUTOGRAPH_VERBOSITY=10`) and attach the full output.\n",
      "Cause: module, class, method, function, traceback, frame, or code object was expected, got cython_function_or_method\n",
      "To silence this warning, decorate the function with @tf.autograph.experimental.do_not_convert\n"
     ]
    },
    {
     "name": "stderr",
     "output_type": "stream",
     "text": [
      "The parameters `output_attentions`, `output_hidden_states` and `use_cache` cannot be updated when calling a model.They have to be set to True/False in the config object (i.e.: `config=XConfig.from_pretrained('name', output_attentions=True)`).\n",
      "The parameter `return_dict` cannot be set in graph mode and will always be set to `True`.\n"
     ]
    }
   ],
   "source": [
    "tuner = GridSearch(\n",
    "    hypermodel = MyHyperModel(),\n",
    "    objective = Objective('val_loss', 'min'),\n",
    "    max_trials = 20,\n",
    "    seed = SEED,\n",
    "    executions_per_trial = 1,\n",
    "    overwrite = True)"
   ]
  },
  {
   "cell_type": "code",
   "execution_count": 41,
   "metadata": {
    "colab": {
     "base_uri": "https://localhost:8080/"
    },
    "executionInfo": {
     "elapsed": 15,
     "status": "ok",
     "timestamp": 1707911101847,
     "user": {
      "displayName": "Gabriele Benanti",
      "userId": "08053723087704014228"
     },
     "user_tz": -60
    },
    "id": "YBlDKF5VYa35",
    "outputId": "653096a7-1827-4faf-c7ff-6d6ca8d2295a"
   },
   "outputs": [
    {
     "name": "stdout",
     "output_type": "stream",
     "text": [
      "Search space summary\n",
      "Default search space size: 7\n",
      "LSTM_units (Choice)\n",
      "{'default': 64, 'conditions': [], 'values': [64, 128], 'ordered': True}\n",
      "LSTM_recurrent_dropout (Choice)\n",
      "{'default': 0.0, 'conditions': [], 'values': [0.0, 0.3], 'ordered': True}\n",
      "rate_dropout (Choice)\n",
      "{'default': 0.6, 'conditions': [], 'values': [0.6, 0.7], 'ordered': True}\n",
      "dense_units (Choice)\n",
      "{'default': 16, 'conditions': [], 'values': [16, 32, 64], 'ordered': True}\n",
      "reg_value (Choice)\n",
      "{'default': 0.0, 'conditions': [], 'values': [0.0, 0.01, 0.001], 'ordered': True}\n",
      "learning_rate (Choice)\n",
      "{'default': 0.01, 'conditions': [], 'values': [0.01, 0.001], 'ordered': True}\n",
      "clip_norm (Choice)\n",
      "{'default': 1, 'conditions': [], 'values': [1, 3], 'ordered': True}\n"
     ]
    }
   ],
   "source": [
    "tuner.search_space_summary(extended=True)"
   ]
  },
  {
   "cell_type": "code",
   "execution_count": null,
   "metadata": {
    "colab": {
     "base_uri": "https://localhost:8080/"
    },
    "id": "zd4RvpVqJFTu",
    "outputId": "8217463e-41c2-4990-eb5d-ee8db674a701"
   },
   "outputs": [
    {
     "name": "stdout",
     "output_type": "stream",
     "text": [
      "Trial 10 Complete [00h 50m 42s]\n",
      "val_loss: 0.5034623742103577\n",
      "\n",
      "Best val_loss So Far: 0.46731340885162354\n",
      "Total elapsed time: 08h 40m 35s\n",
      "\n",
      "Search: Running Trial #11\n",
      "\n",
      "Value             |Best Value So Far |Hyperparameter\n",
      "64                |64                |LSTM_units\n",
      "0                 |0                 |LSTM_recurrent_dropout\n",
      "0.6               |0.6               |rate_dropout\n",
      "16                |16                |dense_units\n",
      "0.001             |0                 |reg_value\n",
      "0.001             |0.001             |learning_rate\n",
      "1                 |3                 |clip_norm\n",
      "\n"
     ]
    },
    {
     "name": "stderr",
     "output_type": "stream",
     "text": [
      "Some weights of the PyTorch model were not used when initializing the TF 2.0 model TFCamembertModel: ['lm_head.dense.bias', 'lm_head.layer_norm.weight', 'lm_head.layer_norm.bias', 'lm_head.dense.weight', 'lm_head.bias', 'lm_head.decoder.weight']\n",
      "- This IS expected if you are initializing TFCamembertModel from a PyTorch model trained on another task or with another architecture (e.g. initializing a TFBertForSequenceClassification model from a BertForPreTraining model).\n",
      "- This IS NOT expected if you are initializing TFCamembertModel from a PyTorch model that you expect to be exactly identical (e.g. initializing a TFBertForSequenceClassification model from a BertForSequenceClassification model).\n",
      "All the weights of TFCamembertModel were initialized from the PyTorch model.\n",
      "If your task is similar to the task the model of the checkpoint was trained on, you can already use TFCamembertModel for predictions without further training.\n",
      "The parameters `output_attentions`, `output_hidden_states` and `use_cache` cannot be updated when calling a model.They have to be set to True/False in the config object (i.e.: `config=XConfig.from_pretrained('name', output_attentions=True)`).\n",
      "The parameter `return_dict` cannot be set in graph mode and will always be set to `True`.\n",
      "The parameters `output_attentions`, `output_hidden_states` and `use_cache` cannot be updated when calling a model.They have to be set to True/False in the config object (i.e.: `config=XConfig.from_pretrained('name', output_attentions=True)`).\n",
      "The parameter `return_dict` cannot be set in graph mode and will always be set to `True`.\n"
     ]
    },
    {
     "name": "stdout",
     "output_type": "stream",
     "text": [
      "Epoch 1/15\n"
     ]
    },
    {
     "name": "stderr",
     "output_type": "stream",
     "text": [
      "The parameters `output_attentions`, `output_hidden_states` and `use_cache` cannot be updated when calling a model.They have to be set to True/False in the config object (i.e.: `config=XConfig.from_pretrained('name', output_attentions=True)`).\n",
      "The parameter `return_dict` cannot be set in graph mode and will always be set to `True`.\n"
     ]
    },
    {
     "name": "stdout",
     "output_type": "stream",
     "text": [
      "78/78 [==============================] - ETA: 0s - loss: 0.6985 - f1_score: 0.1940"
     ]
    },
    {
     "name": "stderr",
     "output_type": "stream",
     "text": [
      "The parameters `output_attentions`, `output_hidden_states` and `use_cache` cannot be updated when calling a model.They have to be set to True/False in the config object (i.e.: `config=XConfig.from_pretrained('name', output_attentions=True)`).\n",
      "The parameter `return_dict` cannot be set in graph mode and will always be set to `True`.\n"
     ]
    },
    {
     "name": "stdout",
     "output_type": "stream",
     "text": [
      "78/78 [==============================] - 224s 3s/step - loss: 0.6985 - f1_score: 0.1940 - val_loss: 0.6731 - val_f1_score: 0.1460\n",
      "Epoch 2/15\n",
      "78/78 [==============================] - 192s 2s/step - loss: 0.6680 - f1_score: 0.2963 - val_loss: 0.6482 - val_f1_score: 0.3304\n",
      "Epoch 3/15\n",
      "78/78 [==============================] - 192s 2s/step - loss: 0.6378 - f1_score: 0.4808 - val_loss: 0.6091 - val_f1_score: 0.5750\n",
      "Epoch 4/15\n",
      "78/78 [==============================] - 192s 2s/step - loss: 0.6086 - f1_score: 0.5401 - val_loss: 0.5786 - val_f1_score: 0.6406\n",
      "Epoch 5/15\n",
      "78/78 [==============================] - 192s 2s/step - loss: 0.5808 - f1_score: 0.5880 - val_loss: 0.5653 - val_f1_score: 0.6775\n",
      "Epoch 6/15\n",
      "78/78 [==============================] - 191s 2s/step - loss: 0.5616 - f1_score: 0.6097 - val_loss: 0.5355 - val_f1_score: 0.6677\n",
      "Epoch 7/15\n",
      "78/78 [==============================] - 193s 2s/step - loss: 0.5445 - f1_score: 0.6240 - val_loss: 0.5227 - val_f1_score: 0.6681\n",
      "Epoch 8/15\n",
      "78/78 [==============================] - 192s 2s/step - loss: 0.5296 - f1_score: 0.6414 - val_loss: 0.5178 - val_f1_score: 0.6781\n",
      "Epoch 9/15\n",
      "78/78 [==============================] - 192s 2s/step - loss: 0.5165 - f1_score: 0.6579 - val_loss: 0.5063 - val_f1_score: 0.6674\n",
      "Epoch 10/15\n",
      "78/78 [==============================] - 192s 2s/step - loss: 0.5095 - f1_score: 0.6604 - val_loss: 0.4999 - val_f1_score: 0.6831\n",
      "Epoch 11/15\n",
      "78/78 [==============================] - ETA: 0s - loss: 0.4942 - f1_score: 0.6790"
     ]
    }
   ],
   "source": [
    "es = EarlyStopping(monitor='val_loss', patience=3,restore_best_weights=True, verbose=1)\n",
    "tuner.search(train, epochs=15, validation_data=validation, callbacks=[es])"
   ]
  },
  {
   "cell_type": "code",
   "execution_count": null,
   "metadata": {
    "id": "N92ROqgIYa3-"
   },
   "outputs": [],
   "source": [
    "# Random Search 10 best results\n",
    "tuner.results_summary()"
   ]
  },
  {
   "cell_type": "code",
   "execution_count": null,
   "metadata": {
    "id": "cYdRyv2iYa3-"
   },
   "outputs": [],
   "source": [
    "# Focus on Best Trial\n",
    "tuner.oracle.get_best_trials()[0].get_state()"
   ]
  },
  {
   "cell_type": "code",
   "execution_count": null,
   "metadata": {},
   "outputs": [],
   "source": [
    "# Focus on Best Trial\n",
    "best_hps = tuner.get_best_hyperparameters()[0]\n",
    "best_hps.values"
   ]
  },
  {
   "cell_type": "code",
   "execution_count": null,
   "metadata": {
    "id": "2dhOmv2SYa3-"
   },
   "outputs": [],
   "source": [
    "# Best Model\n",
    "best_model = tuner.hypermodel.build(best_hps)\n",
    "best_model.summary()"
   ]
  },
  {
   "cell_type": "code",
   "execution_count": null,
   "metadata": {},
   "outputs": [],
   "source": [
    "# Training of best model\n",
    "es = EarlyStopping(monitor='val_f1_score', patience=10, restore_best_weights=True, verbose=1, mode=\"max\")\n",
    "history = best_model.fit(train, batch_size=BATCH_SIZE, epochs=60, callbacks=es, validation_data=validation)"
   ]
  },
  {
   "cell_type": "code",
   "execution_count": null,
   "metadata": {
    "id": "BaOo-96YRwLH"
   },
   "outputs": [],
   "source": [
    "#Accuracy plot\n",
    "plt.plot(history.history[\"f1_score\"], label='f1_score')\n",
    "plt.plot(history.history[\"val_f1_score\"], label='val_f1_score')\n",
    "plt.xlabel('Epochs')\n",
    "plt.ylabel('Accuracy')\n",
    "plt.ylim()\n",
    "plt.xticks(np.arange(len(history.history[\"val_f1_score\"])), np.arange(1, len(history.history[\"val_f1_score\"])+1))\n",
    "plt.legend(loc = 'lower right')"
   ]
  },
  {
   "cell_type": "code",
   "execution_count": null,
   "metadata": {
    "id": "mHCHfUz_SL7w"
   },
   "outputs": [],
   "source": [
    "#Loss plot\n",
    "plt.plot(history.history[\"loss\"], label='loss')\n",
    "plt.plot(history.history[\"val_loss\"], label='val_loss')\n",
    "plt.xlabel('Epochs')\n",
    "plt.ylabel('Loss')\n",
    "plt.ylim()\n",
    "plt.xticks(np.arange(len(history.history[\"loss\"])), np.arange(1, len(history.history[\"loss\"])+1))\n",
    "plt.xticks(np.arange(len(history.history[\"val_loss\"])), np.arange(1, len(history.history[\"val_loss\"])+1))\n",
    "plt.legend(loc = 'upper right')"
   ]
  },
  {
   "cell_type": "code",
   "execution_count": null,
   "metadata": {
    "id": "YCDhoHv2koJM"
   },
   "outputs": [],
   "source": [
    "pred = best_model.predict(test) > 0.5"
   ]
  },
  {
   "cell_type": "code",
   "execution_count": null,
   "metadata": {
    "id": "R5LCUFxhkpul"
   },
   "outputs": [],
   "source": [
    "pred_politics = best_model.predict(test_politics) > 0.5"
   ]
  },
  {
   "cell_type": "code",
   "execution_count": null,
   "metadata": {},
   "outputs": [],
   "source": [
    "# Getting the Classification Report\n",
    "print(classification_report(list(labelsTPolitics), pred_politics, digits=4))"
   ]
  },
  {
   "cell_type": "code",
   "execution_count": null,
   "metadata": {},
   "outputs": [],
   "source": [
    "pred_religious = best_model.predict(test_religious) > 0.5"
   ]
  },
  {
   "cell_type": "code",
   "execution_count": null,
   "metadata": {},
   "outputs": [],
   "source": [
    "# Getting the Classification Report\n",
    "print(classification_report(list(labelsTReligious), pred_religious, digits=4))"
   ]
  }
 ],
 "metadata": {
  "accelerator": "GPU",
  "colab": {
   "gpuType": "V100",
   "machine_shape": "hm",
   "provenance": []
  },
  "kaggle": {
   "accelerator": "gpu",
   "dataSources": [
    {
     "datasetId": 4417931,
     "sourceId": 7617106,
     "sourceType": "datasetVersion"
    }
   ],
   "dockerImageVersionId": 30648,
   "isGpuEnabled": true,
   "isInternetEnabled": true,
   "language": "python",
   "sourceType": "notebook"
  },
  "kernelspec": {
   "display_name": "Python 3",
   "language": "python",
   "name": "python3"
  },
  "language_info": {
   "codemirror_mode": {
    "name": "ipython",
    "version": 3
   },
   "file_extension": ".py",
   "mimetype": "text/x-python",
   "name": "python",
   "nbconvert_exporter": "python",
   "pygments_lexer": "ipython3",
   "version": "3.8.10"
  },
  "widgets": {
   "application/vnd.jupyter.widget-state+json": {
    "05b27f06a8364a878751f3ae1ed27657": {
     "model_module": "@jupyter-widgets/base",
     "model_module_version": "1.2.0",
     "model_name": "LayoutModel",
     "state": {
      "_model_module": "@jupyter-widgets/base",
      "_model_module_version": "1.2.0",
      "_model_name": "LayoutModel",
      "_view_count": null,
      "_view_module": "@jupyter-widgets/base",
      "_view_module_version": "1.2.0",
      "_view_name": "LayoutView",
      "align_content": null,
      "align_items": null,
      "align_self": null,
      "border": null,
      "bottom": null,
      "display": null,
      "flex": null,
      "flex_flow": null,
      "grid_area": null,
      "grid_auto_columns": null,
      "grid_auto_flow": null,
      "grid_auto_rows": null,
      "grid_column": null,
      "grid_gap": null,
      "grid_row": null,
      "grid_template_areas": null,
      "grid_template_columns": null,
      "grid_template_rows": null,
      "height": null,
      "justify_content": null,
      "justify_items": null,
      "left": null,
      "margin": null,
      "max_height": null,
      "max_width": null,
      "min_height": null,
      "min_width": null,
      "object_fit": null,
      "object_position": null,
      "order": null,
      "overflow": null,
      "overflow_x": null,
      "overflow_y": null,
      "padding": null,
      "right": null,
      "top": null,
      "visibility": null,
      "width": null
     }
    },
    "06b409d1d59e4d43bf317b3d66525d2f": {
     "model_module": "@jupyter-widgets/controls",
     "model_module_version": "1.5.0",
     "model_name": "FloatProgressModel",
     "state": {
      "_dom_classes": [],
      "_model_module": "@jupyter-widgets/controls",
      "_model_module_version": "1.5.0",
      "_model_name": "FloatProgressModel",
      "_view_count": null,
      "_view_module": "@jupyter-widgets/controls",
      "_view_module_version": "1.5.0",
      "_view_name": "ProgressView",
      "bar_style": "success",
      "description": "",
      "description_tooltip": null,
      "layout": "IPY_MODEL_a151bfb139f940db950bb4383bee90a4",
      "max": 445033713,
      "min": 0,
      "orientation": "horizontal",
      "style": "IPY_MODEL_8777f0931c6b4ca9bcf4701015df92e1",
      "value": 445033713
     }
    },
    "0d1f418950b54429ba51be762d54c487": {
     "model_module": "@jupyter-widgets/controls",
     "model_module_version": "1.5.0",
     "model_name": "FloatProgressModel",
     "state": {
      "_dom_classes": [],
      "_model_module": "@jupyter-widgets/controls",
      "_model_module_version": "1.5.0",
      "_model_name": "FloatProgressModel",
      "_view_count": null,
      "_view_module": "@jupyter-widgets/controls",
      "_view_module_version": "1.5.0",
      "_view_name": "ProgressView",
      "bar_style": "success",
      "description": "",
      "description_tooltip": null,
      "layout": "IPY_MODEL_83dae110ee5944f69bd6372365c5ea37",
      "max": 508,
      "min": 0,
      "orientation": "horizontal",
      "style": "IPY_MODEL_6eb21c21469d4d93ad506388865aeee6",
      "value": 508
     }
    },
    "12b669165d024aca9f8749647266bb1e": {
     "model_module": "@jupyter-widgets/base",
     "model_module_version": "1.2.0",
     "model_name": "LayoutModel",
     "state": {
      "_model_module": "@jupyter-widgets/base",
      "_model_module_version": "1.2.0",
      "_model_name": "LayoutModel",
      "_view_count": null,
      "_view_module": "@jupyter-widgets/base",
      "_view_module_version": "1.2.0",
      "_view_name": "LayoutView",
      "align_content": null,
      "align_items": null,
      "align_self": null,
      "border": null,
      "bottom": null,
      "display": null,
      "flex": null,
      "flex_flow": null,
      "grid_area": null,
      "grid_auto_columns": null,
      "grid_auto_flow": null,
      "grid_auto_rows": null,
      "grid_column": null,
      "grid_gap": null,
      "grid_row": null,
      "grid_template_areas": null,
      "grid_template_columns": null,
      "grid_template_rows": null,
      "height": null,
      "justify_content": null,
      "justify_items": null,
      "left": null,
      "margin": null,
      "max_height": null,
      "max_width": null,
      "min_height": null,
      "min_width": null,
      "object_fit": null,
      "object_position": null,
      "order": null,
      "overflow": null,
      "overflow_x": null,
      "overflow_y": null,
      "padding": null,
      "right": null,
      "top": null,
      "visibility": null,
      "width": null
     }
    },
    "19f2ac190bbb4895ae5b79b39e7156ba": {
     "model_module": "@jupyter-widgets/base",
     "model_module_version": "1.2.0",
     "model_name": "LayoutModel",
     "state": {
      "_model_module": "@jupyter-widgets/base",
      "_model_module_version": "1.2.0",
      "_model_name": "LayoutModel",
      "_view_count": null,
      "_view_module": "@jupyter-widgets/base",
      "_view_module_version": "1.2.0",
      "_view_name": "LayoutView",
      "align_content": null,
      "align_items": null,
      "align_self": null,
      "border": null,
      "bottom": null,
      "display": null,
      "flex": null,
      "flex_flow": null,
      "grid_area": null,
      "grid_auto_columns": null,
      "grid_auto_flow": null,
      "grid_auto_rows": null,
      "grid_column": null,
      "grid_gap": null,
      "grid_row": null,
      "grid_template_areas": null,
      "grid_template_columns": null,
      "grid_template_rows": null,
      "height": null,
      "justify_content": null,
      "justify_items": null,
      "left": null,
      "margin": null,
      "max_height": null,
      "max_width": null,
      "min_height": null,
      "min_width": null,
      "object_fit": null,
      "object_position": null,
      "order": null,
      "overflow": null,
      "overflow_x": null,
      "overflow_y": null,
      "padding": null,
      "right": null,
      "top": null,
      "visibility": null,
      "width": null
     }
    },
    "1c347ea27d424d5dae4365507a84d4d4": {
     "model_module": "@jupyter-widgets/controls",
     "model_module_version": "1.5.0",
     "model_name": "DescriptionStyleModel",
     "state": {
      "_model_module": "@jupyter-widgets/controls",
      "_model_module_version": "1.5.0",
      "_model_name": "DescriptionStyleModel",
      "_view_count": null,
      "_view_module": "@jupyter-widgets/base",
      "_view_module_version": "1.2.0",
      "_view_name": "StyleView",
      "description_width": ""
     }
    },
    "1d6d5e52a03f413786811a4d241b6217": {
     "model_module": "@jupyter-widgets/controls",
     "model_module_version": "1.5.0",
     "model_name": "DescriptionStyleModel",
     "state": {
      "_model_module": "@jupyter-widgets/controls",
      "_model_module_version": "1.5.0",
      "_model_name": "DescriptionStyleModel",
      "_view_count": null,
      "_view_module": "@jupyter-widgets/base",
      "_view_module_version": "1.2.0",
      "_view_name": "StyleView",
      "description_width": ""
     }
    },
    "26f8b9ae497c4125a2d7380c1a2b2829": {
     "model_module": "@jupyter-widgets/controls",
     "model_module_version": "1.5.0",
     "model_name": "HBoxModel",
     "state": {
      "_dom_classes": [],
      "_model_module": "@jupyter-widgets/controls",
      "_model_module_version": "1.5.0",
      "_model_name": "HBoxModel",
      "_view_count": null,
      "_view_module": "@jupyter-widgets/controls",
      "_view_module_version": "1.5.0",
      "_view_name": "HBoxView",
      "box_style": "",
      "children": [
       "IPY_MODEL_4262d7ee9d4242bba7e00ffd53011759",
       "IPY_MODEL_674ddc24661a4e6995648adffb4e3de0",
       "IPY_MODEL_dd87da5b993d47d3bb8cad521ee8346f"
      ],
      "layout": "IPY_MODEL_12b669165d024aca9f8749647266bb1e"
     }
    },
    "39eb5a9308c242cc8d12ae268ac4c863": {
     "model_module": "@jupyter-widgets/base",
     "model_module_version": "1.2.0",
     "model_name": "LayoutModel",
     "state": {
      "_model_module": "@jupyter-widgets/base",
      "_model_module_version": "1.2.0",
      "_model_name": "LayoutModel",
      "_view_count": null,
      "_view_module": "@jupyter-widgets/base",
      "_view_module_version": "1.2.0",
      "_view_name": "LayoutView",
      "align_content": null,
      "align_items": null,
      "align_self": null,
      "border": null,
      "bottom": null,
      "display": null,
      "flex": null,
      "flex_flow": null,
      "grid_area": null,
      "grid_auto_columns": null,
      "grid_auto_flow": null,
      "grid_auto_rows": null,
      "grid_column": null,
      "grid_gap": null,
      "grid_row": null,
      "grid_template_areas": null,
      "grid_template_columns": null,
      "grid_template_rows": null,
      "height": null,
      "justify_content": null,
      "justify_items": null,
      "left": null,
      "margin": null,
      "max_height": null,
      "max_width": null,
      "min_height": null,
      "min_width": null,
      "object_fit": null,
      "object_position": null,
      "order": null,
      "overflow": null,
      "overflow_x": null,
      "overflow_y": null,
      "padding": null,
      "right": null,
      "top": null,
      "visibility": null,
      "width": null
     }
    },
    "3ba5c6cd34a9495f9abd55f8cb5a37c1": {
     "model_module": "@jupyter-widgets/controls",
     "model_module_version": "1.5.0",
     "model_name": "HTMLModel",
     "state": {
      "_dom_classes": [],
      "_model_module": "@jupyter-widgets/controls",
      "_model_module_version": "1.5.0",
      "_model_name": "HTMLModel",
      "_view_count": null,
      "_view_module": "@jupyter-widgets/controls",
      "_view_module_version": "1.5.0",
      "_view_name": "HTMLView",
      "description": "",
      "description_tooltip": null,
      "layout": "IPY_MODEL_b261bd8c303141f698c3093d5f38b0d9",
      "placeholder": "​",
      "style": "IPY_MODEL_7790d9b832bd481fa5a40858d6a03d6e",
      "value": "pytorch_model.bin: 100%"
     }
    },
    "4262d7ee9d4242bba7e00ffd53011759": {
     "model_module": "@jupyter-widgets/controls",
     "model_module_version": "1.5.0",
     "model_name": "HTMLModel",
     "state": {
      "_dom_classes": [],
      "_model_module": "@jupyter-widgets/controls",
      "_model_module_version": "1.5.0",
      "_model_name": "HTMLModel",
      "_view_count": null,
      "_view_module": "@jupyter-widgets/controls",
      "_view_module_version": "1.5.0",
      "_view_name": "HTMLView",
      "description": "",
      "description_tooltip": null,
      "layout": "IPY_MODEL_f3e1d6a112ba488290d4d50780717f1e",
      "placeholder": "​",
      "style": "IPY_MODEL_87a6cb491bb842bf8bd6867394c50450",
      "value": "sentencepiece.bpe.model: 100%"
     }
    },
    "598c6a98d7974a889711983746e36e02": {
     "model_module": "@jupyter-widgets/controls",
     "model_module_version": "1.5.0",
     "model_name": "HTMLModel",
     "state": {
      "_dom_classes": [],
      "_model_module": "@jupyter-widgets/controls",
      "_model_module_version": "1.5.0",
      "_model_name": "HTMLModel",
      "_view_count": null,
      "_view_module": "@jupyter-widgets/controls",
      "_view_module_version": "1.5.0",
      "_view_name": "HTMLView",
      "description": "",
      "description_tooltip": null,
      "layout": "IPY_MODEL_19f2ac190bbb4895ae5b79b39e7156ba",
      "placeholder": "​",
      "style": "IPY_MODEL_1c347ea27d424d5dae4365507a84d4d4",
      "value": " 508/508 [00:00&lt;00:00, 43.7kB/s]"
     }
    },
    "674ddc24661a4e6995648adffb4e3de0": {
     "model_module": "@jupyter-widgets/controls",
     "model_module_version": "1.5.0",
     "model_name": "FloatProgressModel",
     "state": {
      "_dom_classes": [],
      "_model_module": "@jupyter-widgets/controls",
      "_model_module_version": "1.5.0",
      "_model_name": "FloatProgressModel",
      "_view_count": null,
      "_view_module": "@jupyter-widgets/controls",
      "_view_module_version": "1.5.0",
      "_view_name": "ProgressView",
      "bar_style": "success",
      "description": "",
      "description_tooltip": null,
      "layout": "IPY_MODEL_aa2dc861aed44c068109310751b59f03",
      "max": 805870,
      "min": 0,
      "orientation": "horizontal",
      "style": "IPY_MODEL_b4e762caab4c43198c3f426b4227f062",
      "value": 805870
     }
    },
    "6eb21c21469d4d93ad506388865aeee6": {
     "model_module": "@jupyter-widgets/controls",
     "model_module_version": "1.5.0",
     "model_name": "ProgressStyleModel",
     "state": {
      "_model_module": "@jupyter-widgets/controls",
      "_model_module_version": "1.5.0",
      "_model_name": "ProgressStyleModel",
      "_view_count": null,
      "_view_module": "@jupyter-widgets/base",
      "_view_module_version": "1.2.0",
      "_view_name": "StyleView",
      "bar_color": null,
      "description_width": ""
     }
    },
    "710ba854ea1341acb59ccb8d742184bc": {
     "model_module": "@jupyter-widgets/controls",
     "model_module_version": "1.5.0",
     "model_name": "DescriptionStyleModel",
     "state": {
      "_model_module": "@jupyter-widgets/controls",
      "_model_module_version": "1.5.0",
      "_model_name": "DescriptionStyleModel",
      "_view_count": null,
      "_view_module": "@jupyter-widgets/base",
      "_view_module_version": "1.2.0",
      "_view_name": "StyleView",
      "description_width": ""
     }
    },
    "7790d9b832bd481fa5a40858d6a03d6e": {
     "model_module": "@jupyter-widgets/controls",
     "model_module_version": "1.5.0",
     "model_name": "DescriptionStyleModel",
     "state": {
      "_model_module": "@jupyter-widgets/controls",
      "_model_module_version": "1.5.0",
      "_model_name": "DescriptionStyleModel",
      "_view_count": null,
      "_view_module": "@jupyter-widgets/base",
      "_view_module_version": "1.2.0",
      "_view_name": "StyleView",
      "description_width": ""
     }
    },
    "82b030240984437e92cf63bb25a611f1": {
     "model_module": "@jupyter-widgets/controls",
     "model_module_version": "1.5.0",
     "model_name": "HTMLModel",
     "state": {
      "_dom_classes": [],
      "_model_module": "@jupyter-widgets/controls",
      "_model_module_version": "1.5.0",
      "_model_name": "HTMLModel",
      "_view_count": null,
      "_view_module": "@jupyter-widgets/controls",
      "_view_module_version": "1.5.0",
      "_view_name": "HTMLView",
      "description": "",
      "description_tooltip": null,
      "layout": "IPY_MODEL_39eb5a9308c242cc8d12ae268ac4c863",
      "placeholder": "​",
      "style": "IPY_MODEL_bd0f835a5b48412aafe661107d527b7f",
      "value": " 445M/445M [00:21&lt;00:00, 17.1MB/s]"
     }
    },
    "83dae110ee5944f69bd6372365c5ea37": {
     "model_module": "@jupyter-widgets/base",
     "model_module_version": "1.2.0",
     "model_name": "LayoutModel",
     "state": {
      "_model_module": "@jupyter-widgets/base",
      "_model_module_version": "1.2.0",
      "_model_name": "LayoutModel",
      "_view_count": null,
      "_view_module": "@jupyter-widgets/base",
      "_view_module_version": "1.2.0",
      "_view_name": "LayoutView",
      "align_content": null,
      "align_items": null,
      "align_self": null,
      "border": null,
      "bottom": null,
      "display": null,
      "flex": null,
      "flex_flow": null,
      "grid_area": null,
      "grid_auto_columns": null,
      "grid_auto_flow": null,
      "grid_auto_rows": null,
      "grid_column": null,
      "grid_gap": null,
      "grid_row": null,
      "grid_template_areas": null,
      "grid_template_columns": null,
      "grid_template_rows": null,
      "height": null,
      "justify_content": null,
      "justify_items": null,
      "left": null,
      "margin": null,
      "max_height": null,
      "max_width": null,
      "min_height": null,
      "min_width": null,
      "object_fit": null,
      "object_position": null,
      "order": null,
      "overflow": null,
      "overflow_x": null,
      "overflow_y": null,
      "padding": null,
      "right": null,
      "top": null,
      "visibility": null,
      "width": null
     }
    },
    "8777f0931c6b4ca9bcf4701015df92e1": {
     "model_module": "@jupyter-widgets/controls",
     "model_module_version": "1.5.0",
     "model_name": "ProgressStyleModel",
     "state": {
      "_model_module": "@jupyter-widgets/controls",
      "_model_module_version": "1.5.0",
      "_model_name": "ProgressStyleModel",
      "_view_count": null,
      "_view_module": "@jupyter-widgets/base",
      "_view_module_version": "1.2.0",
      "_view_name": "StyleView",
      "bar_color": null,
      "description_width": ""
     }
    },
    "87a6cb491bb842bf8bd6867394c50450": {
     "model_module": "@jupyter-widgets/controls",
     "model_module_version": "1.5.0",
     "model_name": "DescriptionStyleModel",
     "state": {
      "_model_module": "@jupyter-widgets/controls",
      "_model_module_version": "1.5.0",
      "_model_name": "DescriptionStyleModel",
      "_view_count": null,
      "_view_module": "@jupyter-widgets/base",
      "_view_module_version": "1.2.0",
      "_view_name": "StyleView",
      "description_width": ""
     }
    },
    "a151bfb139f940db950bb4383bee90a4": {
     "model_module": "@jupyter-widgets/base",
     "model_module_version": "1.2.0",
     "model_name": "LayoutModel",
     "state": {
      "_model_module": "@jupyter-widgets/base",
      "_model_module_version": "1.2.0",
      "_model_name": "LayoutModel",
      "_view_count": null,
      "_view_module": "@jupyter-widgets/base",
      "_view_module_version": "1.2.0",
      "_view_name": "LayoutView",
      "align_content": null,
      "align_items": null,
      "align_self": null,
      "border": null,
      "bottom": null,
      "display": null,
      "flex": null,
      "flex_flow": null,
      "grid_area": null,
      "grid_auto_columns": null,
      "grid_auto_flow": null,
      "grid_auto_rows": null,
      "grid_column": null,
      "grid_gap": null,
      "grid_row": null,
      "grid_template_areas": null,
      "grid_template_columns": null,
      "grid_template_rows": null,
      "height": null,
      "justify_content": null,
      "justify_items": null,
      "left": null,
      "margin": null,
      "max_height": null,
      "max_width": null,
      "min_height": null,
      "min_width": null,
      "object_fit": null,
      "object_position": null,
      "order": null,
      "overflow": null,
      "overflow_x": null,
      "overflow_y": null,
      "padding": null,
      "right": null,
      "top": null,
      "visibility": null,
      "width": null
     }
    },
    "aa2dc861aed44c068109310751b59f03": {
     "model_module": "@jupyter-widgets/base",
     "model_module_version": "1.2.0",
     "model_name": "LayoutModel",
     "state": {
      "_model_module": "@jupyter-widgets/base",
      "_model_module_version": "1.2.0",
      "_model_name": "LayoutModel",
      "_view_count": null,
      "_view_module": "@jupyter-widgets/base",
      "_view_module_version": "1.2.0",
      "_view_name": "LayoutView",
      "align_content": null,
      "align_items": null,
      "align_self": null,
      "border": null,
      "bottom": null,
      "display": null,
      "flex": null,
      "flex_flow": null,
      "grid_area": null,
      "grid_auto_columns": null,
      "grid_auto_flow": null,
      "grid_auto_rows": null,
      "grid_column": null,
      "grid_gap": null,
      "grid_row": null,
      "grid_template_areas": null,
      "grid_template_columns": null,
      "grid_template_rows": null,
      "height": null,
      "justify_content": null,
      "justify_items": null,
      "left": null,
      "margin": null,
      "max_height": null,
      "max_width": null,
      "min_height": null,
      "min_width": null,
      "object_fit": null,
      "object_position": null,
      "order": null,
      "overflow": null,
      "overflow_x": null,
      "overflow_y": null,
      "padding": null,
      "right": null,
      "top": null,
      "visibility": null,
      "width": null
     }
    },
    "b0730f9c19ab4358bd3947dde2d61802": {
     "model_module": "@jupyter-widgets/base",
     "model_module_version": "1.2.0",
     "model_name": "LayoutModel",
     "state": {
      "_model_module": "@jupyter-widgets/base",
      "_model_module_version": "1.2.0",
      "_model_name": "LayoutModel",
      "_view_count": null,
      "_view_module": "@jupyter-widgets/base",
      "_view_module_version": "1.2.0",
      "_view_name": "LayoutView",
      "align_content": null,
      "align_items": null,
      "align_self": null,
      "border": null,
      "bottom": null,
      "display": null,
      "flex": null,
      "flex_flow": null,
      "grid_area": null,
      "grid_auto_columns": null,
      "grid_auto_flow": null,
      "grid_auto_rows": null,
      "grid_column": null,
      "grid_gap": null,
      "grid_row": null,
      "grid_template_areas": null,
      "grid_template_columns": null,
      "grid_template_rows": null,
      "height": null,
      "justify_content": null,
      "justify_items": null,
      "left": null,
      "margin": null,
      "max_height": null,
      "max_width": null,
      "min_height": null,
      "min_width": null,
      "object_fit": null,
      "object_position": null,
      "order": null,
      "overflow": null,
      "overflow_x": null,
      "overflow_y": null,
      "padding": null,
      "right": null,
      "top": null,
      "visibility": null,
      "width": null
     }
    },
    "b261bd8c303141f698c3093d5f38b0d9": {
     "model_module": "@jupyter-widgets/base",
     "model_module_version": "1.2.0",
     "model_name": "LayoutModel",
     "state": {
      "_model_module": "@jupyter-widgets/base",
      "_model_module_version": "1.2.0",
      "_model_name": "LayoutModel",
      "_view_count": null,
      "_view_module": "@jupyter-widgets/base",
      "_view_module_version": "1.2.0",
      "_view_name": "LayoutView",
      "align_content": null,
      "align_items": null,
      "align_self": null,
      "border": null,
      "bottom": null,
      "display": null,
      "flex": null,
      "flex_flow": null,
      "grid_area": null,
      "grid_auto_columns": null,
      "grid_auto_flow": null,
      "grid_auto_rows": null,
      "grid_column": null,
      "grid_gap": null,
      "grid_row": null,
      "grid_template_areas": null,
      "grid_template_columns": null,
      "grid_template_rows": null,
      "height": null,
      "justify_content": null,
      "justify_items": null,
      "left": null,
      "margin": null,
      "max_height": null,
      "max_width": null,
      "min_height": null,
      "min_width": null,
      "object_fit": null,
      "object_position": null,
      "order": null,
      "overflow": null,
      "overflow_x": null,
      "overflow_y": null,
      "padding": null,
      "right": null,
      "top": null,
      "visibility": null,
      "width": null
     }
    },
    "b4e762caab4c43198c3f426b4227f062": {
     "model_module": "@jupyter-widgets/controls",
     "model_module_version": "1.5.0",
     "model_name": "ProgressStyleModel",
     "state": {
      "_model_module": "@jupyter-widgets/controls",
      "_model_module_version": "1.5.0",
      "_model_name": "ProgressStyleModel",
      "_view_count": null,
      "_view_module": "@jupyter-widgets/base",
      "_view_module_version": "1.2.0",
      "_view_name": "StyleView",
      "bar_color": null,
      "description_width": ""
     }
    },
    "b630545e4007429380b30a4682787583": {
     "model_module": "@jupyter-widgets/controls",
     "model_module_version": "1.5.0",
     "model_name": "HBoxModel",
     "state": {
      "_dom_classes": [],
      "_model_module": "@jupyter-widgets/controls",
      "_model_module_version": "1.5.0",
      "_model_name": "HBoxModel",
      "_view_count": null,
      "_view_module": "@jupyter-widgets/controls",
      "_view_module_version": "1.5.0",
      "_view_name": "HBoxView",
      "box_style": "",
      "children": [
       "IPY_MODEL_d8518a4cd89e48dfa203dc8501bcf1fc",
       "IPY_MODEL_0d1f418950b54429ba51be762d54c487",
       "IPY_MODEL_598c6a98d7974a889711983746e36e02"
      ],
      "layout": "IPY_MODEL_eac84fa2a7104e3c92a55c56bf895811"
     }
    },
    "bd0f835a5b48412aafe661107d527b7f": {
     "model_module": "@jupyter-widgets/controls",
     "model_module_version": "1.5.0",
     "model_name": "DescriptionStyleModel",
     "state": {
      "_model_module": "@jupyter-widgets/controls",
      "_model_module_version": "1.5.0",
      "_model_name": "DescriptionStyleModel",
      "_view_count": null,
      "_view_module": "@jupyter-widgets/base",
      "_view_module_version": "1.2.0",
      "_view_name": "StyleView",
      "description_width": ""
     }
    },
    "c79e444a12244792b35acd881ea8f2c9": {
     "model_module": "@jupyter-widgets/controls",
     "model_module_version": "1.5.0",
     "model_name": "HBoxModel",
     "state": {
      "_dom_classes": [],
      "_model_module": "@jupyter-widgets/controls",
      "_model_module_version": "1.5.0",
      "_model_name": "HBoxModel",
      "_view_count": null,
      "_view_module": "@jupyter-widgets/controls",
      "_view_module_version": "1.5.0",
      "_view_name": "HBoxView",
      "box_style": "",
      "children": [
       "IPY_MODEL_3ba5c6cd34a9495f9abd55f8cb5a37c1",
       "IPY_MODEL_06b409d1d59e4d43bf317b3d66525d2f",
       "IPY_MODEL_82b030240984437e92cf63bb25a611f1"
      ],
      "layout": "IPY_MODEL_f7967ecc52114e88a6ec9521c4ebb25c"
     }
    },
    "d8518a4cd89e48dfa203dc8501bcf1fc": {
     "model_module": "@jupyter-widgets/controls",
     "model_module_version": "1.5.0",
     "model_name": "HTMLModel",
     "state": {
      "_dom_classes": [],
      "_model_module": "@jupyter-widgets/controls",
      "_model_module_version": "1.5.0",
      "_model_name": "HTMLModel",
      "_view_count": null,
      "_view_module": "@jupyter-widgets/controls",
      "_view_module_version": "1.5.0",
      "_view_name": "HTMLView",
      "description": "",
      "description_tooltip": null,
      "layout": "IPY_MODEL_05b27f06a8364a878751f3ae1ed27657",
      "placeholder": "​",
      "style": "IPY_MODEL_710ba854ea1341acb59ccb8d742184bc",
      "value": "config.json: 100%"
     }
    },
    "dd87da5b993d47d3bb8cad521ee8346f": {
     "model_module": "@jupyter-widgets/controls",
     "model_module_version": "1.5.0",
     "model_name": "HTMLModel",
     "state": {
      "_dom_classes": [],
      "_model_module": "@jupyter-widgets/controls",
      "_model_module_version": "1.5.0",
      "_model_name": "HTMLModel",
      "_view_count": null,
      "_view_module": "@jupyter-widgets/controls",
      "_view_module_version": "1.5.0",
      "_view_name": "HTMLView",
      "description": "",
      "description_tooltip": null,
      "layout": "IPY_MODEL_b0730f9c19ab4358bd3947dde2d61802",
      "placeholder": "​",
      "style": "IPY_MODEL_1d6d5e52a03f413786811a4d241b6217",
      "value": " 806k/806k [00:00&lt;00:00, 3.27MB/s]"
     }
    },
    "eac84fa2a7104e3c92a55c56bf895811": {
     "model_module": "@jupyter-widgets/base",
     "model_module_version": "1.2.0",
     "model_name": "LayoutModel",
     "state": {
      "_model_module": "@jupyter-widgets/base",
      "_model_module_version": "1.2.0",
      "_model_name": "LayoutModel",
      "_view_count": null,
      "_view_module": "@jupyter-widgets/base",
      "_view_module_version": "1.2.0",
      "_view_name": "LayoutView",
      "align_content": null,
      "align_items": null,
      "align_self": null,
      "border": null,
      "bottom": null,
      "display": null,
      "flex": null,
      "flex_flow": null,
      "grid_area": null,
      "grid_auto_columns": null,
      "grid_auto_flow": null,
      "grid_auto_rows": null,
      "grid_column": null,
      "grid_gap": null,
      "grid_row": null,
      "grid_template_areas": null,
      "grid_template_columns": null,
      "grid_template_rows": null,
      "height": null,
      "justify_content": null,
      "justify_items": null,
      "left": null,
      "margin": null,
      "max_height": null,
      "max_width": null,
      "min_height": null,
      "min_width": null,
      "object_fit": null,
      "object_position": null,
      "order": null,
      "overflow": null,
      "overflow_x": null,
      "overflow_y": null,
      "padding": null,
      "right": null,
      "top": null,
      "visibility": null,
      "width": null
     }
    },
    "f3e1d6a112ba488290d4d50780717f1e": {
     "model_module": "@jupyter-widgets/base",
     "model_module_version": "1.2.0",
     "model_name": "LayoutModel",
     "state": {
      "_model_module": "@jupyter-widgets/base",
      "_model_module_version": "1.2.0",
      "_model_name": "LayoutModel",
      "_view_count": null,
      "_view_module": "@jupyter-widgets/base",
      "_view_module_version": "1.2.0",
      "_view_name": "LayoutView",
      "align_content": null,
      "align_items": null,
      "align_self": null,
      "border": null,
      "bottom": null,
      "display": null,
      "flex": null,
      "flex_flow": null,
      "grid_area": null,
      "grid_auto_columns": null,
      "grid_auto_flow": null,
      "grid_auto_rows": null,
      "grid_column": null,
      "grid_gap": null,
      "grid_row": null,
      "grid_template_areas": null,
      "grid_template_columns": null,
      "grid_template_rows": null,
      "height": null,
      "justify_content": null,
      "justify_items": null,
      "left": null,
      "margin": null,
      "max_height": null,
      "max_width": null,
      "min_height": null,
      "min_width": null,
      "object_fit": null,
      "object_position": null,
      "order": null,
      "overflow": null,
      "overflow_x": null,
      "overflow_y": null,
      "padding": null,
      "right": null,
      "top": null,
      "visibility": null,
      "width": null
     }
    },
    "f7967ecc52114e88a6ec9521c4ebb25c": {
     "model_module": "@jupyter-widgets/base",
     "model_module_version": "1.2.0",
     "model_name": "LayoutModel",
     "state": {
      "_model_module": "@jupyter-widgets/base",
      "_model_module_version": "1.2.0",
      "_model_name": "LayoutModel",
      "_view_count": null,
      "_view_module": "@jupyter-widgets/base",
      "_view_module_version": "1.2.0",
      "_view_name": "LayoutView",
      "align_content": null,
      "align_items": null,
      "align_self": null,
      "border": null,
      "bottom": null,
      "display": null,
      "flex": null,
      "flex_flow": null,
      "grid_area": null,
      "grid_auto_columns": null,
      "grid_auto_flow": null,
      "grid_auto_rows": null,
      "grid_column": null,
      "grid_gap": null,
      "grid_row": null,
      "grid_template_areas": null,
      "grid_template_columns": null,
      "grid_template_rows": null,
      "height": null,
      "justify_content": null,
      "justify_items": null,
      "left": null,
      "margin": null,
      "max_height": null,
      "max_width": null,
      "min_height": null,
      "min_width": null,
      "object_fit": null,
      "object_position": null,
      "order": null,
      "overflow": null,
      "overflow_x": null,
      "overflow_y": null,
      "padding": null,
      "right": null,
      "top": null,
      "visibility": null,
      "width": null
     }
    }
   }
  }
 },
 "nbformat": 4,
 "nbformat_minor": 4
}
