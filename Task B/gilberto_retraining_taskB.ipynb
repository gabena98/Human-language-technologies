{
 "cells": [
  {
   "cell_type": "code",
   "execution_count": 1,
   "metadata": {},
   "outputs": [
    {
     "name": "stdout",
     "output_type": "stream",
     "text": [
      "Defaulting to user installation because normal site-packages is not writeable\n",
      "Requirement already satisfied: transformers in /usr/lib/python3.8/site-packages (4.1.1)\n",
      "Requirement already satisfied: numpy in /usr/local/lib/python3.8/dist-packages (from transformers) (1.19.5)\n",
      "Requirement already satisfied: tqdm>=4.27 in /usr/lib/python3.8/site-packages (from transformers) (4.54.1)\n",
      "Requirement already satisfied: requests in /usr/lib/python3/dist-packages (from transformers) (2.22.0)\n",
      "Requirement already satisfied: regex!=2019.12.17 in /usr/lib/python3.8/site-packages (from transformers) (2020.11.13)\n",
      "Requirement already satisfied: tokenizers==0.9.4 in /usr/lib/python3.8/site-packages (from transformers) (0.9.4)\n",
      "Requirement already satisfied: filelock in /usr/lib/python3.8/site-packages (from transformers) (3.0.12)\n",
      "Requirement already satisfied: sacremoses in /usr/lib/python3.8/site-packages (from transformers) (0.0.43)\n",
      "Requirement already satisfied: packaging in /usr/lib/python3.8/site-packages (from transformers) (20.9)\n",
      "Requirement already satisfied: pyparsing>=2.0.2 in /usr/lib/python3/dist-packages (from packaging->transformers) (2.4.6)\n",
      "Requirement already satisfied: click in /usr/lib/python3/dist-packages (from sacremoses->transformers) (7.0)\n",
      "Requirement already satisfied: joblib in /usr/lib/python3.8/site-packages (from sacremoses->transformers) (1.0.0)\n",
      "Requirement already satisfied: six in /usr/local/lib/python3.8/dist-packages (from sacremoses->transformers) (1.15.0)\n",
      "\u001b[33mWARNING: You are using pip version 21.2.4; however, version 24.0 is available.\n",
      "You should consider upgrading via the '/usr/bin/python3 -m pip install --upgrade pip' command.\u001b[0m\n",
      "Defaulting to user installation because normal site-packages is not writeable\n",
      "Requirement already satisfied: keras_tuner in ./.local/lib/python3.8/site-packages (1.4.6)\n",
      "Requirement already satisfied: keras in /usr/local/lib/python3.8/dist-packages (from keras_tuner) (2.6.0)\n",
      "Requirement already satisfied: packaging in /usr/lib/python3.8/site-packages (from keras_tuner) (20.9)\n",
      "Requirement already satisfied: requests in /usr/lib/python3/dist-packages (from keras_tuner) (2.22.0)\n",
      "Requirement already satisfied: kt-legacy in ./.local/lib/python3.8/site-packages (from keras_tuner) (1.0.5)\n",
      "Requirement already satisfied: pyparsing>=2.0.2 in /usr/lib/python3/dist-packages (from packaging->keras_tuner) (2.4.6)\n",
      "\u001b[33mWARNING: You are using pip version 21.2.4; however, version 24.0 is available.\n",
      "You should consider upgrading via the '/usr/bin/python3 -m pip install --upgrade pip' command.\u001b[0m\n"
     ]
    }
   ],
   "source": [
    "! pip install transformers\n",
    "! pip install keras_tuner"
   ]
  },
  {
   "cell_type": "code",
   "execution_count": 2,
   "metadata": {},
   "outputs": [],
   "source": [
    "import numpy as np\n",
    "import seaborn as sns\n",
    "import pandas as pd\n",
    "import tensorflow as tf\n",
    "from tensorflow.keras.models import Sequential, Model\n",
    "from tensorflow.keras.layers import Input, Dense, Embedding, LSTM, Bidirectional, Dropout, GlobalMaxPool1D, concatenate, BatchNormalization\n",
    "from tensorflow.keras.callbacks import Callback\n",
    "from tensorflow.keras.callbacks import EarlyStopping\n",
    "from tensorflow.keras.optimizers import Adam\n",
    "from keras_tuner.tuners import GridSearch\n",
    "from keras_tuner import HyperModel, Objective\n",
    "from keras import regularizers\n",
    "from decimal import Decimal\n",
    "from sklearn.metrics import classification_report, accuracy_score\n",
    "from sklearn.metrics import confusion_matrix\n",
    "from sklearn.preprocessing import StandardScaler\n",
    "import matplotlib.pyplot as plt\n",
    "import warnings\n",
    "warnings.filterwarnings(\"ignore\")"
   ]
  },
  {
   "cell_type": "code",
   "execution_count": 3,
   "metadata": {},
   "outputs": [],
   "source": [
    "import os\n",
    "os.environ[\"CUDA_VISIBLE_DEVICES\"]=\"1\""
   ]
  },
  {
   "cell_type": "code",
   "execution_count": 4,
   "metadata": {},
   "outputs": [
    {
     "name": "stdout",
     "output_type": "stream",
     "text": [
      "1\n"
     ]
    }
   ],
   "source": [
    "!echo $CUDA_VISIBLE_DEVICES"
   ]
  },
  {
   "cell_type": "code",
   "execution_count": 5,
   "metadata": {},
   "outputs": [
    {
     "name": "stdout",
     "output_type": "stream",
     "text": [
      "GPUs available:  [PhysicalDevice(name='/physical_device:GPU:0', device_type='GPU')]\n"
     ]
    }
   ],
   "source": [
    "gpus = tf.config.experimental.list_physical_devices('GPU')\n",
    "print(\"GPUs available: \", gpus)"
   ]
  },
  {
   "cell_type": "code",
   "execution_count": 6,
   "metadata": {},
   "outputs": [
    {
     "name": "stdout",
     "output_type": "stream",
     "text": [
      "Using GPU:  PhysicalDevice(name='/physical_device:GPU:0', device_type='GPU')\n"
     ]
    }
   ],
   "source": [
    "if gpus:\n",
    "    # Assuming you want to use the first GPU if available\n",
    "    try:\n",
    "        tf.config.experimental.set_visible_devices(gpus[0], 'GPU')\n",
    "        print(\"Using GPU: \", gpus[0])\n",
    "    except RuntimeError as e:\n",
    "        # Visible devices must be set before GPUs have been initialized\n",
    "        print(e)"
   ]
  },
  {
   "cell_type": "code",
   "execution_count": 7,
   "metadata": {},
   "outputs": [
    {
     "name": "stdout",
     "output_type": "stream",
     "text": [
      "Memory growth enabled\n"
     ]
    }
   ],
   "source": [
    "if gpus:\n",
    "    try:\n",
    "        # Currently, memory growth needs to be the same across GPUs\n",
    "        for gpu in gpus:\n",
    "            tf.config.experimental.set_memory_growth(gpu, True)\n",
    "        print(\"Memory growth enabled\")\n",
    "    except RuntimeError as e:\n",
    "        # Memory growth must be set before GPUs have been initialized\n",
    "        print(e)"
   ]
  },
  {
   "cell_type": "code",
   "execution_count": 8,
   "metadata": {},
   "outputs": [],
   "source": [
    "import keras\n",
    "SEED = 42\n",
    "tf.random.set_seed(SEED)"
   ]
  },
  {
   "cell_type": "code",
   "execution_count": 9,
   "metadata": {},
   "outputs": [
    {
     "name": "stdout",
     "output_type": "stream",
     "text": [
      "umberto chosen\n",
      "357\n"
     ]
    }
   ],
   "source": [
    "choice = 'umberto' #umberto\n",
    "max_length = 0\n",
    "if choice == 'alberto':\n",
    "    training_data = pd.read_csv('archive/alberto_preprocessing_training_textual_haspeede2.csv')\n",
    "    test_data = pd.read_csv('archive/alberto_preprocessing/alberto_preprocessing_test_textual.csv')\n",
    "    max_length = 290\n",
    "    print('alberto chosen')\n",
    "else:\n",
    "    training_data = pd.read_csv('archive/umberto_preprocessing_training_textual_haspeede2.csv')\n",
    "    test_data = pd.read_csv('archive/umberto_preprocessing/umberto_preprocessing_test_textual.csv')\n",
    "    max_length = 357\n",
    "    print('umberto chosen')\n",
    "\n",
    "print(max_length)"
   ]
  },
  {
   "cell_type": "code",
   "execution_count": 10,
   "metadata": {},
   "outputs": [],
   "source": [
    "test_data_politics = test_data[test_data['dataset']=='test_politics']\n",
    "test_data_religious = test_data[test_data['dataset']=='test_religious']"
   ]
  },
  {
   "cell_type": "code",
   "execution_count": 11,
   "metadata": {},
   "outputs": [
    {
     "data": {
      "text/html": [
       "<div>\n",
       "<style scoped>\n",
       "    .dataframe tbody tr th:only-of-type {\n",
       "        vertical-align: middle;\n",
       "    }\n",
       "\n",
       "    .dataframe tbody tr th {\n",
       "        vertical-align: top;\n",
       "    }\n",
       "\n",
       "    .dataframe thead th {\n",
       "        text-align: right;\n",
       "    }\n",
       "</style>\n",
       "<table border=\"1\" class=\"dataframe\">\n",
       "  <thead>\n",
       "    <tr style=\"text-align: right;\">\n",
       "      <th></th>\n",
       "      <th>anonymized_text</th>\n",
       "      <th>label</th>\n",
       "    </tr>\n",
       "  </thead>\n",
       "  <tbody>\n",
       "    <tr>\n",
       "      <th>0</th>\n",
       "      <td>[user] con tutte le denunce che si sta beccand...</td>\n",
       "      <td>1</td>\n",
       "    </tr>\n",
       "    <tr>\n",
       "      <th>1</th>\n",
       "      <td>[hashtag] prescrizione [/hashtag] i t re magi ...</td>\n",
       "      <td>0</td>\n",
       "    </tr>\n",
       "    <tr>\n",
       "      <th>2</th>\n",
       "      <td>il [hashtag] movimento cinque stelle [/hashtag...</td>\n",
       "      <td>1</td>\n",
       "    </tr>\n",
       "    <tr>\n",
       "      <th>3</th>\n",
       "      <td>la [hashtag] lega [/hashtag] e il [hashtag] mo...</td>\n",
       "      <td>0</td>\n",
       "    </tr>\n",
       "    <tr>\n",
       "      <th>4</th>\n",
       "      <td>che cosa cambia questa [hashtag] legge [/hasht...</td>\n",
       "      <td>0</td>\n",
       "    </tr>\n",
       "    <tr>\n",
       "      <th>...</th>\n",
       "      <td>...</td>\n",
       "      <td>...</td>\n",
       "    </tr>\n",
       "    <tr>\n",
       "      <th>12432</th>\n",
       "      <td>gli stati nazionali devono essere pronti a rin...</td>\n",
       "      <td>0</td>\n",
       "    </tr>\n",
       "    <tr>\n",
       "      <th>12433</th>\n",
       "      <td>il ministro dell interno della germania [hasht...</td>\n",
       "      <td>0</td>\n",
       "    </tr>\n",
       "    <tr>\n",
       "      <th>12434</th>\n",
       "      <td>[hashtag] salvini [/hashtag] in italia troppi ...</td>\n",
       "      <td>0</td>\n",
       "    </tr>\n",
       "    <tr>\n",
       "      <th>12435</th>\n",
       "      <td>[user] [user] chi giubila in buona fede non ha...</td>\n",
       "      <td>0</td>\n",
       "    </tr>\n",
       "    <tr>\n",
       "      <th>12436</th>\n",
       "      <td>i giovani cristiani in [hashtag] etiopia [/has...</td>\n",
       "      <td>0</td>\n",
       "    </tr>\n",
       "  </tbody>\n",
       "</table>\n",
       "<p>12437 rows × 2 columns</p>\n",
       "</div>"
      ],
      "text/plain": [
       "                                         anonymized_text  label\n",
       "0      [user] con tutte le denunce che si sta beccand...      1\n",
       "1      [hashtag] prescrizione [/hashtag] i t re magi ...      0\n",
       "2      il [hashtag] movimento cinque stelle [/hashtag...      1\n",
       "3      la [hashtag] lega [/hashtag] e il [hashtag] mo...      0\n",
       "4      che cosa cambia questa [hashtag] legge [/hasht...      0\n",
       "...                                                  ...    ...\n",
       "12432  gli stati nazionali devono essere pronti a rin...      0\n",
       "12433  il ministro dell interno della germania [hasht...      0\n",
       "12434  [hashtag] salvini [/hashtag] in italia troppi ...      0\n",
       "12435  [user] [user] chi giubila in buona fede non ha...      0\n",
       "12436  i giovani cristiani in [hashtag] etiopia [/has...      0\n",
       "\n",
       "[12437 rows x 2 columns]"
      ]
     },
     "execution_count": 11,
     "metadata": {},
     "output_type": "execute_result"
    }
   ],
   "source": [
    "training_data"
   ]
  },
  {
   "cell_type": "code",
   "execution_count": 12,
   "metadata": {},
   "outputs": [
    {
     "data": {
      "text/html": [
       "<div>\n",
       "<style scoped>\n",
       "    .dataframe tbody tr th:only-of-type {\n",
       "        vertical-align: middle;\n",
       "    }\n",
       "\n",
       "    .dataframe tbody tr th {\n",
       "        vertical-align: top;\n",
       "    }\n",
       "\n",
       "    .dataframe thead th {\n",
       "        text-align: right;\n",
       "    }\n",
       "</style>\n",
       "<table border=\"1\" class=\"dataframe\">\n",
       "  <thead>\n",
       "    <tr style=\"text-align: right;\">\n",
       "      <th></th>\n",
       "      <th>anonymized_tweet_id</th>\n",
       "      <th>anonymized_text</th>\n",
       "      <th>label</th>\n",
       "      <th>dataset</th>\n",
       "    </tr>\n",
       "  </thead>\n",
       "  <tbody>\n",
       "    <tr>\n",
       "      <th>0</th>\n",
       "      <td>424801448454884</td>\n",
       "      <td>questo anno [hashtag] babbo natale [/hashtag] ...</td>\n",
       "      <td>1</td>\n",
       "      <td>test_politics</td>\n",
       "    </tr>\n",
       "    <tr>\n",
       "      <th>1</th>\n",
       "      <td>775194088981616</td>\n",
       "      <td>adesso che in mezzo alla strada grazie al verg...</td>\n",
       "      <td>1</td>\n",
       "      <td>test_politics</td>\n",
       "    </tr>\n",
       "    <tr>\n",
       "      <th>2</th>\n",
       "      <td>386928936347190</td>\n",
       "      <td>circondatevi di persone che non sono diventate...</td>\n",
       "      <td>0</td>\n",
       "      <td>test_politics</td>\n",
       "    </tr>\n",
       "    <tr>\n",
       "      <th>3</th>\n",
       "      <td>957546674360002</td>\n",
       "      <td>seriamente per capire se un ladro mi entra in ...</td>\n",
       "      <td>0</td>\n",
       "      <td>test_politics</td>\n",
       "    </tr>\n",
       "    <tr>\n",
       "      <th>4</th>\n",
       "      <td>530526299555950</td>\n",
       "      <td>che poi è probabile che [hashtag] spataro [/ha...</td>\n",
       "      <td>0</td>\n",
       "      <td>test_politics</td>\n",
       "    </tr>\n",
       "    <tr>\n",
       "      <th>...</th>\n",
       "      <td>...</td>\n",
       "      <td>...</td>\n",
       "      <td>...</td>\n",
       "      <td>...</td>\n",
       "    </tr>\n",
       "    <tr>\n",
       "      <th>3219</th>\n",
       "      <td>791719192220932</td>\n",
       "      <td>[user] sono assuefatti non se ne rendono nemme...</td>\n",
       "      <td>1</td>\n",
       "      <td>test_politics</td>\n",
       "    </tr>\n",
       "    <tr>\n",
       "      <th>3220</th>\n",
       "      <td>39222631664617</td>\n",
       "      <td>[user] io rimango basita dalla scaltrezza e sf...</td>\n",
       "      <td>1</td>\n",
       "      <td>test_politics</td>\n",
       "    </tr>\n",
       "    <tr>\n",
       "      <th>3221</th>\n",
       "      <td>468315837641713</td>\n",
       "      <td>[user] [user] non sono scemi loro sono scemi q...</td>\n",
       "      <td>1</td>\n",
       "      <td>test_politics</td>\n",
       "    </tr>\n",
       "    <tr>\n",
       "      <th>3308</th>\n",
       "      <td>25360395404144</td>\n",
       "      <td>[hashtag] sondaggio polito co [/hashtag] [hash...</td>\n",
       "      <td>0</td>\n",
       "      <td>test_politics</td>\n",
       "    </tr>\n",
       "    <tr>\n",
       "      <th>3826</th>\n",
       "      <td>834806744745258</td>\n",
       "      <td>viviamo in un mondo dove è necessario scrivere...</td>\n",
       "      <td>0</td>\n",
       "      <td>test_politics</td>\n",
       "    </tr>\n",
       "  </tbody>\n",
       "</table>\n",
       "<p>1400 rows × 4 columns</p>\n",
       "</div>"
      ],
      "text/plain": [
       "      anonymized_tweet_id                                    anonymized_text  \\\n",
       "0         424801448454884  questo anno [hashtag] babbo natale [/hashtag] ...   \n",
       "1         775194088981616  adesso che in mezzo alla strada grazie al verg...   \n",
       "2         386928936347190  circondatevi di persone che non sono diventate...   \n",
       "3         957546674360002  seriamente per capire se un ladro mi entra in ...   \n",
       "4         530526299555950  che poi è probabile che [hashtag] spataro [/ha...   \n",
       "...                   ...                                                ...   \n",
       "3219      791719192220932  [user] sono assuefatti non se ne rendono nemme...   \n",
       "3220       39222631664617  [user] io rimango basita dalla scaltrezza e sf...   \n",
       "3221      468315837641713  [user] [user] non sono scemi loro sono scemi q...   \n",
       "3308       25360395404144  [hashtag] sondaggio polito co [/hashtag] [hash...   \n",
       "3826      834806744745258  viviamo in un mondo dove è necessario scrivere...   \n",
       "\n",
       "      label        dataset  \n",
       "0         1  test_politics  \n",
       "1         1  test_politics  \n",
       "2         0  test_politics  \n",
       "3         0  test_politics  \n",
       "4         0  test_politics  \n",
       "...     ...            ...  \n",
       "3219      1  test_politics  \n",
       "3220      1  test_politics  \n",
       "3221      1  test_politics  \n",
       "3308      0  test_politics  \n",
       "3826      0  test_politics  \n",
       "\n",
       "[1400 rows x 4 columns]"
      ]
     },
     "execution_count": 12,
     "metadata": {},
     "output_type": "execute_result"
    }
   ],
   "source": [
    "test_data_politics"
   ]
  },
  {
   "cell_type": "code",
   "execution_count": 13,
   "metadata": {},
   "outputs": [
    {
     "data": {
      "text/html": [
       "<div>\n",
       "<style scoped>\n",
       "    .dataframe tbody tr th:only-of-type {\n",
       "        vertical-align: middle;\n",
       "    }\n",
       "\n",
       "    .dataframe tbody tr th {\n",
       "        vertical-align: top;\n",
       "    }\n",
       "\n",
       "    .dataframe thead th {\n",
       "        text-align: right;\n",
       "    }\n",
       "</style>\n",
       "<table border=\"1\" class=\"dataframe\">\n",
       "  <thead>\n",
       "    <tr style=\"text-align: right;\">\n",
       "      <th></th>\n",
       "      <th>anonymized_tweet_id</th>\n",
       "      <th>anonymized_text</th>\n",
       "      <th>label</th>\n",
       "      <th>dataset</th>\n",
       "    </tr>\n",
       "  </thead>\n",
       "  <tbody>\n",
       "    <tr>\n",
       "      <th>605</th>\n",
       "      <td>379748472796095</td>\n",
       "      <td>voglio abituare tutti gli abitanti del luogo e...</td>\n",
       "      <td>0</td>\n",
       "      <td>test_religious</td>\n",
       "    </tr>\n",
       "    <tr>\n",
       "      <th>606</th>\n",
       "      <td>195027074607893</td>\n",
       "      <td>l europa laica e comunista esce allo scoperto ...</td>\n",
       "      <td>0</td>\n",
       "      <td>test_religious</td>\n",
       "    </tr>\n",
       "    <tr>\n",
       "      <th>607</th>\n",
       "      <td>97213378242080</td>\n",
       "      <td>[user] gli ebrei insieme ai liberali e altre c...</td>\n",
       "      <td>0</td>\n",
       "      <td>test_religious</td>\n",
       "    </tr>\n",
       "    <tr>\n",
       "      <th>608</th>\n",
       "      <td>894894959501945</td>\n",
       "      <td>[user] la mussulmana lombarda per portarla a c...</td>\n",
       "      <td>1</td>\n",
       "      <td>test_religious</td>\n",
       "    </tr>\n",
       "    <tr>\n",
       "      <th>609</th>\n",
       "      <td>439618972593653</td>\n",
       "      <td>denunciare coloro che vogliono limitare le lib...</td>\n",
       "      <td>0</td>\n",
       "      <td>test_religious</td>\n",
       "    </tr>\n",
       "    <tr>\n",
       "      <th>...</th>\n",
       "      <td>...</td>\n",
       "      <td>...</td>\n",
       "      <td>...</td>\n",
       "      <td>...</td>\n",
       "    </tr>\n",
       "    <tr>\n",
       "      <th>4395</th>\n",
       "      <td>391599381944152</td>\n",
       "      <td>[user] esatto brava ti dico di piu i nazisti n...</td>\n",
       "      <td>0</td>\n",
       "      <td>test_religious</td>\n",
       "    </tr>\n",
       "    <tr>\n",
       "      <th>4396</th>\n",
       "      <td>974317501584882</td>\n",
       "      <td>[user] togliere la parola non vaccinati e mett...</td>\n",
       "      <td>0</td>\n",
       "      <td>test_religious</td>\n",
       "    </tr>\n",
       "    <tr>\n",
       "      <th>4397</th>\n",
       "      <td>739414582677163</td>\n",
       "      <td>[user] [user] lo sai o no che i musulmani rico...</td>\n",
       "      <td>0</td>\n",
       "      <td>test_religious</td>\n",
       "    </tr>\n",
       "    <tr>\n",
       "      <th>4398</th>\n",
       "      <td>470933865054049</td>\n",
       "      <td>berlino memoriale per gli ebrei assassinati d ...</td>\n",
       "      <td>0</td>\n",
       "      <td>test_religious</td>\n",
       "    </tr>\n",
       "    <tr>\n",
       "      <th>4399</th>\n",
       "      <td>692345319594122</td>\n",
       "      <td>[user] [user] solo un terone dal culetto oliva...</td>\n",
       "      <td>0</td>\n",
       "      <td>test_religious</td>\n",
       "    </tr>\n",
       "  </tbody>\n",
       "</table>\n",
       "<p>3000 rows × 4 columns</p>\n",
       "</div>"
      ],
      "text/plain": [
       "      anonymized_tweet_id                                    anonymized_text  \\\n",
       "605       379748472796095  voglio abituare tutti gli abitanti del luogo e...   \n",
       "606       195027074607893  l europa laica e comunista esce allo scoperto ...   \n",
       "607        97213378242080  [user] gli ebrei insieme ai liberali e altre c...   \n",
       "608       894894959501945  [user] la mussulmana lombarda per portarla a c...   \n",
       "609       439618972593653  denunciare coloro che vogliono limitare le lib...   \n",
       "...                   ...                                                ...   \n",
       "4395      391599381944152  [user] esatto brava ti dico di piu i nazisti n...   \n",
       "4396      974317501584882  [user] togliere la parola non vaccinati e mett...   \n",
       "4397      739414582677163  [user] [user] lo sai o no che i musulmani rico...   \n",
       "4398      470933865054049  berlino memoriale per gli ebrei assassinati d ...   \n",
       "4399      692345319594122  [user] [user] solo un terone dal culetto oliva...   \n",
       "\n",
       "      label         dataset  \n",
       "605       0  test_religious  \n",
       "606       0  test_religious  \n",
       "607       0  test_religious  \n",
       "608       1  test_religious  \n",
       "609       0  test_religious  \n",
       "...     ...             ...  \n",
       "4395      0  test_religious  \n",
       "4396      0  test_religious  \n",
       "4397      0  test_religious  \n",
       "4398      0  test_religious  \n",
       "4399      0  test_religious  \n",
       "\n",
       "[3000 rows x 4 columns]"
      ]
     },
     "execution_count": 13,
     "metadata": {},
     "output_type": "execute_result"
    }
   ],
   "source": [
    "test_data_religious"
   ]
  },
  {
   "cell_type": "code",
   "execution_count": 14,
   "metadata": {},
   "outputs": [
    {
     "name": "stderr",
     "output_type": "stream",
     "text": [
      "Special tokens have been added in the vocabulary, make sure the associated word embedding are fine-tuned or trained.\n"
     ]
    }
   ],
   "source": [
    "# Load model directly\n",
    "from transformers import AutoTokenizer\n",
    "\n",
    "tokenizer = AutoTokenizer.from_pretrained(\"idb-ita/gilberto-uncased-from-camembert\")  #Musixmatch/umberto-commoncrawl-cased-v1\n",
    "\n",
    "def tokenize_function(sentence):\n",
    "    tokens = tokenizer.encode_plus(sentence, max_length=max_length,\n",
    "                                   truncation=True, padding='max_length',\n",
    "                                   add_special_tokens=True, return_attention_mask=True,\n",
    "                                   return_token_type_ids=False, return_tensors='tf')\n",
    "    return tokens['input_ids'], tokens['attention_mask']"
   ]
  },
  {
   "cell_type": "code",
   "execution_count": 15,
   "metadata": {},
   "outputs": [],
   "source": [
    "from sklearn.model_selection import train_test_split\n",
    "\n",
    "labels = training_data['label']\n",
    "\n",
    "X_train, X_val, y_train, y_val = train_test_split(training_data, labels, test_size=0.20, random_state=SEED, stratify=labels)"
   ]
  },
  {
   "cell_type": "code",
   "execution_count": 16,
   "metadata": {},
   "outputs": [],
   "source": [
    "# initialize two arrays for input tensors\n",
    "Xids = np.zeros((len(X_train['anonymized_text']), max_length))\n",
    "Xmask = np.zeros((len(X_train['anonymized_text']), max_length))\n",
    "\n",
    "for i, sentence in enumerate(X_train['anonymized_text']):\n",
    "    Xids[i, :], Xmask[i, :] = tokenize_function(sentence)\n",
    "    \n",
    "labels = y_train"
   ]
  },
  {
   "cell_type": "code",
   "execution_count": 17,
   "metadata": {},
   "outputs": [],
   "source": [
    "BATCH_SIZE = 128  # we will use batches of 128\n",
    "\n",
    "# load arrays into tensorflow dataset\n",
    "dataset = tf.data.Dataset.from_tensor_slices((Xids, Xmask, labels))\n",
    "\n",
    "# create a mapping function that we use to restructure our dataset\n",
    "def map_func(input_ids, masks, labels):\n",
    "    return {'input_ids': input_ids, 'attention_mask': masks}, labels\n",
    "\n",
    "# using map method to apply map_func to dataset\n",
    "dataset = dataset.map(map_func)\n",
    "\n",
    "# batch data\n",
    "dataset = dataset.batch(BATCH_SIZE)\n",
    "train=dataset\n",
    "del dataset"
   ]
  },
  {
   "cell_type": "code",
   "execution_count": 18,
   "metadata": {},
   "outputs": [],
   "source": [
    "XidsVal = np.zeros((len(X_val['anonymized_text']), max_length))\n",
    "XmaskVal = np.zeros((len(X_val['anonymized_text']), max_length))\n",
    "\n",
    "for i, sentence in enumerate(X_val['anonymized_text']):\n",
    "    XidsVal[i, :], XmaskVal[i, :] = tokenize_function(sentence)\n",
    "    \n",
    "labels_val = y_val\n",
    "\n",
    "dataset = tf.data.Dataset.from_tensor_slices((XidsVal, XmaskVal, labels_val))\n",
    "dataset = dataset.map(map_func)\n",
    "dataset = dataset.batch(BATCH_SIZE)\n",
    "validation = dataset\n",
    "del dataset"
   ]
  },
  {
   "cell_type": "code",
   "execution_count": 19,
   "metadata": {},
   "outputs": [],
   "source": [
    "XidsTestPolitics = np.zeros((len(test_data_politics['anonymized_text']), max_length))\n",
    "XmaskTestPolitics = np.zeros((len(test_data_politics['anonymized_text']), max_length))\n",
    "\n",
    "for i, sentence in enumerate(test_data_politics['anonymized_text']):\n",
    "    XidsTestPolitics[i, :], XmaskTestPolitics[i, :] = tokenize_function(sentence)\n",
    "    \n",
    "labelsTPolitics = test_data_politics['label']\n",
    "\n",
    "dataset = tf.data.Dataset.from_tensor_slices((XidsTestPolitics, XmaskTestPolitics, labelsTPolitics))\n",
    "dataset = dataset.map(map_func)\n",
    "dataset = dataset.batch(BATCH_SIZE)\n",
    "test_politics = dataset\n",
    "\n",
    "del dataset  # delete dataset to free up disk-space"
   ]
  },
  {
   "cell_type": "code",
   "execution_count": 20,
   "metadata": {},
   "outputs": [],
   "source": [
    "XidsTestReligious = np.zeros((len(test_data_religious['anonymized_text']), max_length))\n",
    "XmaskTestReligious = np.zeros((len(test_data_religious['anonymized_text']), max_length))\n",
    "\n",
    "for i, sentence in enumerate(test_data_religious['anonymized_text']):\n",
    "    XidsTestReligious[i, :], XmaskTestReligious[i, :] = tokenize_function(sentence)\n",
    "    \n",
    "labelsTReligious = test_data_religious['label']\n",
    "\n",
    "dataset = tf.data.Dataset.from_tensor_slices((XidsTestReligious, XmaskTestReligious, labelsTReligious))\n",
    "dataset = dataset.map(map_func)\n",
    "dataset = dataset.batch(BATCH_SIZE)\n",
    "test_religious = dataset\n",
    "\n",
    "del dataset  # delete dataset to free up disk-space"
   ]
  },
  {
   "cell_type": "code",
   "execution_count": 21,
   "metadata": {},
   "outputs": [],
   "source": [
    "import tensorflow as tf\n",
    "from tensorflow.keras.metrics import Precision, Recall\n",
    "class F1Score(tf.keras.metrics.Metric):\n",
    "    def __init__(self, name='f1_score', **kwargs):\n",
    "        super(F1Score, self).__init__(name=name, **kwargs)\n",
    "        self.precision = Precision()\n",
    "        self.recall = Recall()\n",
    "    def update_state(self, y_true, y_pred, sample_weight=None):\n",
    "        self.precision.update_state(y_true, y_pred, sample_weight)\n",
    "        self.recall.update_state(y_true, y_pred, sample_weight)\n",
    "    def result(self):\n",
    "        p = self.precision.result()\n",
    "        r = self.recall.result()\n",
    "        return 2 * ((p * r) / (p + r + tf.keras.backend.epsilon()))\n",
    "    def reset_states(self):\n",
    "        self.precision.reset_states()\n",
    "        self.recall.reset_states()"
   ]
  },
  {
   "cell_type": "code",
   "execution_count": 22,
   "metadata": {},
   "outputs": [
    {
     "name": "stderr",
     "output_type": "stream",
     "text": [
      "Some weights of the PyTorch model were not used when initializing the TF 2.0 model TFCamembertModel: ['lm_head.decoder.weight', 'lm_head.dense.weight', 'lm_head.layer_norm.bias', 'lm_head.dense.bias', 'lm_head.layer_norm.weight', 'lm_head.bias']\n",
      "- This IS expected if you are initializing TFCamembertModel from a PyTorch model trained on another task or with another architecture (e.g. initializing a TFBertForSequenceClassification model from a BertForPreTraining model).\n",
      "- This IS NOT expected if you are initializing TFCamembertModel from a PyTorch model that you expect to be exactly identical (e.g. initializing a TFBertForSequenceClassification model from a BertForSequenceClassification model).\n",
      "All the weights of TFCamembertModel were initialized from the PyTorch model.\n",
      "If your task is similar to the task the model of the checkpoint was trained on, you can already use TFCamembertModel for predictions without further training.\n"
     ]
    },
    {
     "name": "stdout",
     "output_type": "stream",
     "text": [
      "WARNING:tensorflow:AutoGraph could not transform <bound method Socket.send of <zmq.sugar.socket.Socket object at 0x7ffbca0c1ca0>> and will run it as-is.\n",
      "Please report this to the TensorFlow team. When filing the bug, set the verbosity to 10 (on Linux, `export AUTOGRAPH_VERBOSITY=10`) and attach the full output.\n",
      "Cause: module, class, method, function, traceback, frame, or code object was expected, got cython_function_or_method\n",
      "To silence this warning, decorate the function with @tf.autograph.experimental.do_not_convert\n",
      "WARNING: AutoGraph could not transform <bound method Socket.send of <zmq.sugar.socket.Socket object at 0x7ffbca0c1ca0>> and will run it as-is.\n",
      "Please report this to the TensorFlow team. When filing the bug, set the verbosity to 10 (on Linux, `export AUTOGRAPH_VERBOSITY=10`) and attach the full output.\n",
      "Cause: module, class, method, function, traceback, frame, or code object was expected, got cython_function_or_method\n",
      "To silence this warning, decorate the function with @tf.autograph.experimental.do_not_convert\n"
     ]
    },
    {
     "name": "stderr",
     "output_type": "stream",
     "text": [
      "The parameters `output_attentions`, `output_hidden_states` and `use_cache` cannot be updated when calling a model.They have to be set to True/False in the config object (i.e.: `config=XConfig.from_pretrained('name', output_attentions=True)`).\n",
      "The parameter `return_dict` cannot be set in graph mode and will always be set to `True`.\n"
     ]
    }
   ],
   "source": [
    "from transformers import TFAutoModel\n",
    "model = TFAutoModel.from_pretrained(\"idb-ita/gilberto-uncased-from-camembert\", from_pt=True) #Musixmatch/umberto-commoncrawl-cased-v1\n",
    "\n",
    "input_ids = Input(shape=(max_length,), name='input_ids', dtype='int32')\n",
    "mask = Input(shape=(max_length,), name='attention_mask', dtype='int32')\n",
    "\n",
    "embeddings = model(input_ids, attention_mask=mask)[0]\n",
    "X = Bidirectional(LSTM(128, return_sequences= True, recurrent_dropout=0.0))(embeddings) \n",
    "X = GlobalMaxPool1D()(X)\n",
    "X = Dropout(0.6)(X)\n",
    "#X = BatchNormalization()(X)\n",
    "#X = Dense(64, activation='relu',kernel_regularizer=regularizers.L2(0.01))(X)\n",
    "X = Dense(16, activation='relu',kernel_regularizer=regularizers.L2(0.0))(X)\n",
    "y = Dense(1, activation='sigmoid', name='outputs')(X)\n",
    "\n",
    "# define input and output layers of our model\n",
    "best_model = Model(inputs=[input_ids, mask], outputs=y)\n",
    "\n",
    "# freeze the BERT layer - otherwise we will be training 100M+ parameters...\n",
    "best_model.layers[2].trainable = False\n",
    "\n",
    "best_model.compile(optimizer=Adam(learning_rate=0.001, clipnorm=3), loss=\"binary_crossentropy\", metrics=[F1Score()])"
   ]
  },
  {
   "cell_type": "code",
   "execution_count": 23,
   "metadata": {},
   "outputs": [
    {
     "name": "stdout",
     "output_type": "stream",
     "text": [
      "Model: \"model\"\n",
      "__________________________________________________________________________________________________\n",
      "Layer (type)                    Output Shape         Param #     Connected to                     \n",
      "==================================================================================================\n",
      "input_ids (InputLayer)          [(None, 357)]        0                                            \n",
      "__________________________________________________________________________________________________\n",
      "attention_mask (InputLayer)     [(None, 357)]        0                                            \n",
      "__________________________________________________________________________________________________\n",
      "tf_camembert_model (TFCamembert TFBaseModelOutputWit 110621952   input_ids[0][0]                  \n",
      "                                                                 attention_mask[0][0]             \n",
      "__________________________________________________________________________________________________\n",
      "bidirectional (Bidirectional)   (None, 357, 256)     918528      tf_camembert_model[0][0]         \n",
      "__________________________________________________________________________________________________\n",
      "global_max_pooling1d (GlobalMax (None, 256)          0           bidirectional[0][0]              \n",
      "__________________________________________________________________________________________________\n",
      "dropout_37 (Dropout)            (None, 256)          0           global_max_pooling1d[0][0]       \n",
      "__________________________________________________________________________________________________\n",
      "dense (Dense)                   (None, 16)           4112        dropout_37[0][0]                 \n",
      "__________________________________________________________________________________________________\n",
      "outputs (Dense)                 (None, 1)            17          dense[0][0]                      \n",
      "==================================================================================================\n",
      "Total params: 111,544,609\n",
      "Trainable params: 922,657\n",
      "Non-trainable params: 110,621,952\n",
      "__________________________________________________________________________________________________\n"
     ]
    }
   ],
   "source": [
    "best_model.summary()"
   ]
  },
  {
   "cell_type": "code",
   "execution_count": 24,
   "metadata": {},
   "outputs": [
    {
     "name": "stderr",
     "output_type": "stream",
     "text": [
      "The parameters `output_attentions`, `output_hidden_states` and `use_cache` cannot be updated when calling a model.They have to be set to True/False in the config object (i.e.: `config=XConfig.from_pretrained('name', output_attentions=True)`).\n"
     ]
    },
    {
     "name": "stdout",
     "output_type": "stream",
     "text": [
      "Epoch 1/20\n"
     ]
    },
    {
     "name": "stderr",
     "output_type": "stream",
     "text": [
      "The parameter `return_dict` cannot be set in graph mode and will always be set to `True`.\n",
      "The parameters `output_attentions`, `output_hidden_states` and `use_cache` cannot be updated when calling a model.They have to be set to True/False in the config object (i.e.: `config=XConfig.from_pretrained('name', output_attentions=True)`).\n",
      "The parameter `return_dict` cannot be set in graph mode and will always be set to `True`.\n"
     ]
    },
    {
     "name": "stdout",
     "output_type": "stream",
     "text": [
      " 3/78 [>.............................] - ETA: 2:33 - loss: 0.7809 - f1_score: 0.2336"
     ]
    },
    {
     "name": "stdout",
     "output_type": "stream",
     "text": [
      "78/78 [==============================] - ETA: 0s - loss: 0.6767 - f1_score: 0.2091"
     ]
    },
    {
     "name": "stderr",
     "output_type": "stream",
     "text": [
      "The parameters `output_attentions`, `output_hidden_states` and `use_cache` cannot be updated when calling a model.They have to be set to True/False in the config object (i.e.: `config=XConfig.from_pretrained('name', output_attentions=True)`).\n",
      "The parameter `return_dict` cannot be set in graph mode and will always be set to `True`.\n"
     ]
    },
    {
     "name": "stdout",
     "output_type": "stream",
     "text": [
      "78/78 [==============================] - 246s 3s/step - loss: 0.6767 - f1_score: 0.2091 - val_loss: 0.6441 - val_f1_score: 0.1595\n",
      "Epoch 2/20\n",
      "78/78 [==============================] - 195s 3s/step - loss: 0.6325 - f1_score: 0.4233 - val_loss: 0.6241 - val_f1_score: 0.6124\n",
      "Epoch 3/20\n",
      "78/78 [==============================] - 195s 3s/step - loss: 0.6037 - f1_score: 0.5248 - val_loss: 0.6162 - val_f1_score: 0.6468\n",
      "Epoch 4/20\n",
      "78/78 [==============================] - 195s 3s/step - loss: 0.5756 - f1_score: 0.5787 - val_loss: 0.5559 - val_f1_score: 0.6631\n",
      "Epoch 5/20\n",
      "78/78 [==============================] - 194s 2s/step - loss: 0.5424 - f1_score: 0.6209 - val_loss: 0.5399 - val_f1_score: 0.6828\n",
      "Epoch 6/20\n",
      "78/78 [==============================] - 195s 3s/step - loss: 0.5270 - f1_score: 0.6258 - val_loss: 0.5081 - val_f1_score: 0.6794\n",
      "Epoch 7/20\n",
      "78/78 [==============================] - 196s 3s/step - loss: 0.5137 - f1_score: 0.6479 - val_loss: 0.5054 - val_f1_score: 0.6911\n",
      "Epoch 8/20\n",
      "78/78 [==============================] - 196s 3s/step - loss: 0.5008 - f1_score: 0.6604 - val_loss: 0.4868 - val_f1_score: 0.6618\n",
      "Epoch 9/20\n",
      "78/78 [==============================] - 195s 3s/step - loss: 0.4949 - f1_score: 0.6673 - val_loss: 0.4881 - val_f1_score: 0.6715\n",
      "Epoch 10/20\n",
      "78/78 [==============================] - 196s 3s/step - loss: 0.4797 - f1_score: 0.6808 - val_loss: 0.4823 - val_f1_score: 0.6939\n",
      "Epoch 11/20\n",
      "78/78 [==============================] - 196s 3s/step - loss: 0.4735 - f1_score: 0.6905 - val_loss: 0.4789 - val_f1_score: 0.6870\n",
      "Epoch 12/20\n",
      "78/78 [==============================] - 196s 3s/step - loss: 0.4645 - f1_score: 0.6971 - val_loss: 0.4734 - val_f1_score: 0.7113\n",
      "Epoch 13/20\n",
      "78/78 [==============================] - 196s 3s/step - loss: 0.4600 - f1_score: 0.7003 - val_loss: 0.4806 - val_f1_score: 0.7097\n",
      "Epoch 14/20\n",
      "78/78 [==============================] - 196s 3s/step - loss: 0.4518 - f1_score: 0.7120 - val_loss: 0.4668 - val_f1_score: 0.6996\n",
      "Epoch 15/20\n",
      "78/78 [==============================] - 201s 3s/step - loss: 0.4455 - f1_score: 0.7112 - val_loss: 0.4748 - val_f1_score: 0.7062\n",
      "Epoch 16/20\n",
      "78/78 [==============================] - 195s 3s/step - loss: 0.4448 - f1_score: 0.7144 - val_loss: 0.4714 - val_f1_score: 0.6859\n",
      "Epoch 17/20\n",
      "78/78 [==============================] - 196s 3s/step - loss: 0.4296 - f1_score: 0.7288 - val_loss: 0.4713 - val_f1_score: 0.6858\n",
      "Epoch 18/20\n",
      "78/78 [==============================] - 195s 3s/step - loss: 0.4232 - f1_score: 0.7334 - val_loss: 0.4718 - val_f1_score: 0.7010\n",
      "Epoch 19/20\n",
      "78/78 [==============================] - 195s 3s/step - loss: 0.4217 - f1_score: 0.7332 - val_loss: 0.4769 - val_f1_score: 0.6781\n",
      "Restoring model weights from the end of the best epoch.\n",
      "Epoch 00019: early stopping\n"
     ]
    }
   ],
   "source": [
    "es = EarlyStopping(monitor='val_loss', patience=5,restore_best_weights=True, verbose=1)\n",
    "history = best_model.fit(train, batch_size=BATCH_SIZE, epochs=20, callbacks=es, validation_data=validation)"
   ]
  },
  {
   "cell_type": "code",
   "execution_count": 25,
   "metadata": {},
   "outputs": [
    {
     "data": {
      "text/plain": [
       "<matplotlib.legend.Legend at 0x7ff5d8439970>"
      ]
     },
     "execution_count": 25,
     "metadata": {},
     "output_type": "execute_result"
    },
    {
     "data": {
      "image/png": "[encoded data removed]",
      "text/plain": [
       "<Figure size 432x288 with 1 Axes>"
      ]
     },
     "metadata": {
      "needs_background": "light"
     },
     "output_type": "display_data"
    }
   ],
   "source": [
    "#Accuracy plot\n",
    "plt.plot(history.history[\"f1_score\"], label='f1_score')\n",
    "plt.plot(history.history[\"val_f1_score\"], label='val_f1_score')\n",
    "plt.xlabel('Epochs')\n",
    "plt.ylabel('Accuracy')\n",
    "plt.ylim()\n",
    "plt.xticks(np.arange(len(history.history[\"val_f1_score\"])), np.arange(1, len(history.history[\"val_f1_score\"])+1))\n",
    "plt.legend(loc = 'lower right')"
   ]
  },
  {
   "cell_type": "code",
   "execution_count": 26,
   "metadata": {},
   "outputs": [
    {
     "data": {
      "text/plain": [
       "<matplotlib.legend.Legend at 0x7ff5d83b7520>"
      ]
     },
     "execution_count": 26,
     "metadata": {},
     "output_type": "execute_result"
    },
    {
     "data": {
      "image/png": "[encoded data removed]",
      "text/plain": [
       "<Figure size 432x288 with 1 Axes>"
      ]
     },
     "metadata": {
      "needs_background": "light"
     },
     "output_type": "display_data"
    }
   ],
   "source": [
    "#Loss plot\n",
    "plt.plot(history.history[\"loss\"], label='loss')\n",
    "plt.plot(history.history[\"val_loss\"], label='val_loss')\n",
    "plt.xlabel('Epochs')\n",
    "plt.ylabel('Loss')\n",
    "plt.ylim()\n",
    "plt.xticks(np.arange(len(history.history[\"loss\"])), np.arange(1, len(history.history[\"loss\"])+1))\n",
    "plt.xticks(np.arange(len(history.history[\"val_loss\"])), np.arange(1, len(history.history[\"val_loss\"])+1))\n",
    "plt.legend(loc = 'upper right')"
   ]
  },
  {
   "cell_type": "code",
   "execution_count": 27,
   "metadata": {},
   "outputs": [
    {
     "name": "stderr",
     "output_type": "stream",
     "text": [
      "The parameters `output_attentions`, `output_hidden_states` and `use_cache` cannot be updated when calling a model.They have to be set to True/False in the config object (i.e.: `config=XConfig.from_pretrained('name', output_attentions=True)`).\n",
      "The parameter `return_dict` cannot be set in graph mode and will always be set to `True`.\n"
     ]
    }
   ],
   "source": [
    "pred_politics = best_model.predict(test_politics) > 0.5"
   ]
  },
  {
   "cell_type": "code",
   "execution_count": 28,
   "metadata": {},
   "outputs": [
    {
     "name": "stdout",
     "output_type": "stream",
     "text": [
      "              precision    recall  f1-score   support\n",
      "\n",
      "           0     0.7939    0.9243    0.8541       700\n",
      "           1     0.9094    0.7600    0.8280       700\n",
      "\n",
      "    accuracy                         0.8421      1400\n",
      "   macro avg     0.8516    0.8421    0.8411      1400\n",
      "weighted avg     0.8516    0.8421    0.8411      1400\n",
      "\n"
     ]
    }
   ],
   "source": [
    "# Getting the Classification Report\n",
    "print(classification_report(list(labelsTPolitics), pred_politics, digits=4))"
   ]
  },
  {
   "cell_type": "code",
   "execution_count": 29,
   "metadata": {},
   "outputs": [],
   "source": [
    "pred_religious = best_model.predict(test_religious) > 0.5"
   ]
  },
  {
   "cell_type": "code",
   "execution_count": 30,
   "metadata": {},
   "outputs": [
    {
     "name": "stdout",
     "output_type": "stream",
     "text": [
      "              precision    recall  f1-score   support\n",
      "\n",
      "           0     0.8661    0.7004    0.7745      2513\n",
      "           1     0.2221    0.4415    0.2955       487\n",
      "\n",
      "    accuracy                         0.6583      3000\n",
      "   macro avg     0.5441    0.5709    0.5350      3000\n",
      "weighted avg     0.7616    0.6583    0.6967      3000\n",
      "\n"
     ]
    }
   ],
   "source": [
    "print(classification_report(list(labelsTReligious),pred_religious, digits=4))"
   ]
  }
 ],
 "metadata": {
  "kernelspec": {
   "display_name": "Python 3",
   "language": "python",
   "name": "python3"
  },
  "language_info": {
   "codemirror_mode": {
    "name": "ipython",
    "version": 3
   },
   "file_extension": ".py",
   "mimetype": "text/x-python",
   "name": "python",
   "nbconvert_exporter": "python",
   "pygments_lexer": "ipython3",
   "version": "3.8.10"
  }
 },
 "nbformat": 4,
 "nbformat_minor": 4
}
